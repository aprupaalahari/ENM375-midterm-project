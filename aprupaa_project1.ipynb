{
 "cells": [
  {
   "cell_type": "markdown",
   "metadata": {
    "colab_type": "text",
    "id": "z6qSiFxTty0G"
   },
   "source": [
    "# ENM375 Midterm Project\n",
    "---\n",
    "Name: Aprupa Alahari\n",
    "\n",
    "Pennkey: 21557860\n"
   ]
  },
  {
   "cell_type": "markdown",
   "metadata": {
    "colab_type": "text",
    "id": "KMFV5wSbty0I"
   },
   "source": [
    "## 3  Preparing the Data for Analysis"
   ]
  },
  {
   "cell_type": "markdown",
   "metadata": {
    "colab_type": "text",
    "id": "W3b4yvB1ty0J"
   },
   "source": [
    "### Q1  Choosing the Appropriate Data Structure"
   ]
  },
  {
   "cell_type": "markdown",
   "metadata": {
    "colab_type": "text",
    "id": "ZrTZT8saty0K"
   },
   "source": [
    "#### Data Science Portion:"
   ]
  },
  {
   "cell_type": "code",
   "execution_count": 0,
   "metadata": {
    "colab": {},
    "colab_type": "code",
    "id": "w1t6Qbwnty0K",
    "outputId": "29090c67-d55a-4191-9406-9975b368b2da"
   },
   "outputs": [
    {
     "data": {
      "text/html": [
       "<div>\n",
       "<style scoped>\n",
       "    .dataframe tbody tr th:only-of-type {\n",
       "        vertical-align: middle;\n",
       "    }\n",
       "\n",
       "    .dataframe tbody tr th {\n",
       "        vertical-align: top;\n",
       "    }\n",
       "\n",
       "    .dataframe thead th {\n",
       "        text-align: right;\n",
       "    }\n",
       "</style>\n",
       "<table border=\"1\" class=\"dataframe\">\n",
       "  <thead>\n",
       "    <tr style=\"text-align: right;\">\n",
       "      <th></th>\n",
       "      <th>ID</th>\n",
       "      <th>AgeYears</th>\n",
       "      <th>GenderFactor</th>\n",
       "      <th>EducDeg</th>\n",
       "      <th>Income</th>\n",
       "      <th>JE_5D</th>\n",
       "      <th>DS_5D</th>\n",
       "      <th>ST_5D_R</th>\n",
       "      <th>SC_5D</th>\n",
       "      <th>TS_5D</th>\n",
       "      <th>LSMean</th>\n",
       "    </tr>\n",
       "  </thead>\n",
       "  <tbody>\n",
       "    <tr>\n",
       "      <td>0</td>\n",
       "      <td>101</td>\n",
       "      <td>23.27945</td>\n",
       "      <td>0</td>\n",
       "      <td>BachDegree</td>\n",
       "      <td>20to49k</td>\n",
       "      <td>4.4</td>\n",
       "      <td>4.25</td>\n",
       "      <td>4.4</td>\n",
       "      <td>2.8</td>\n",
       "      <td>2.00</td>\n",
       "      <td>4.0</td>\n",
       "    </tr>\n",
       "    <tr>\n",
       "      <td>1</td>\n",
       "      <td>104</td>\n",
       "      <td>30.84384</td>\n",
       "      <td>0</td>\n",
       "      <td>BachDegree</td>\n",
       "      <td>under20k</td>\n",
       "      <td>3.2</td>\n",
       "      <td>2.50</td>\n",
       "      <td>3.6</td>\n",
       "      <td>4.0</td>\n",
       "      <td>0.00</td>\n",
       "      <td>6.0</td>\n",
       "    </tr>\n",
       "    <tr>\n",
       "      <td>2</td>\n",
       "      <td>105</td>\n",
       "      <td>31.26849</td>\n",
       "      <td>0</td>\n",
       "      <td>Master</td>\n",
       "      <td>150to199k</td>\n",
       "      <td>3.0</td>\n",
       "      <td>3.00</td>\n",
       "      <td>3.0</td>\n",
       "      <td>2.4</td>\n",
       "      <td>1.00</td>\n",
       "      <td>6.0</td>\n",
       "    </tr>\n",
       "    <tr>\n",
       "      <td>3</td>\n",
       "      <td>106</td>\n",
       "      <td>25.99452</td>\n",
       "      <td>0</td>\n",
       "      <td>BachDegree</td>\n",
       "      <td>100to149k</td>\n",
       "      <td>5.6</td>\n",
       "      <td>3.50</td>\n",
       "      <td>4.6</td>\n",
       "      <td>5.2</td>\n",
       "      <td>1.25</td>\n",
       "      <td>5.6</td>\n",
       "    </tr>\n",
       "    <tr>\n",
       "      <td>4</td>\n",
       "      <td>107</td>\n",
       "      <td>65.23562</td>\n",
       "      <td>0</td>\n",
       "      <td>Master</td>\n",
       "      <td>50to74k</td>\n",
       "      <td>3.4</td>\n",
       "      <td>2.75</td>\n",
       "      <td>3.5</td>\n",
       "      <td>2.4</td>\n",
       "      <td>0.75</td>\n",
       "      <td>3.6</td>\n",
       "    </tr>\n",
       "    <tr>\n",
       "      <td>...</td>\n",
       "      <td>...</td>\n",
       "      <td>...</td>\n",
       "      <td>...</td>\n",
       "      <td>...</td>\n",
       "      <td>...</td>\n",
       "      <td>...</td>\n",
       "      <td>...</td>\n",
       "      <td>...</td>\n",
       "      <td>...</td>\n",
       "      <td>...</td>\n",
       "      <td>...</td>\n",
       "    </tr>\n",
       "    <tr>\n",
       "      <td>144</td>\n",
       "      <td>353</td>\n",
       "      <td>24.70959</td>\n",
       "      <td>1</td>\n",
       "      <td>BachDegree</td>\n",
       "      <td>PreferNotToAnswer</td>\n",
       "      <td>4.0</td>\n",
       "      <td>3.20</td>\n",
       "      <td>1.2</td>\n",
       "      <td>4.4</td>\n",
       "      <td>2.40</td>\n",
       "      <td>5.0</td>\n",
       "    </tr>\n",
       "    <tr>\n",
       "      <td>145</td>\n",
       "      <td>355</td>\n",
       "      <td>27.08493</td>\n",
       "      <td>0</td>\n",
       "      <td>Master</td>\n",
       "      <td>20to49k</td>\n",
       "      <td>4.6</td>\n",
       "      <td>3.20</td>\n",
       "      <td>2.8</td>\n",
       "      <td>4.8</td>\n",
       "      <td>1.00</td>\n",
       "      <td>4.6</td>\n",
       "    </tr>\n",
       "    <tr>\n",
       "      <td>146</td>\n",
       "      <td>356</td>\n",
       "      <td>22.19178</td>\n",
       "      <td>0</td>\n",
       "      <td>BachDegree</td>\n",
       "      <td>100to149k</td>\n",
       "      <td>4.6</td>\n",
       "      <td>4.40</td>\n",
       "      <td>4.6</td>\n",
       "      <td>4.2</td>\n",
       "      <td>3.00</td>\n",
       "      <td>4.6</td>\n",
       "    </tr>\n",
       "    <tr>\n",
       "      <td>147</td>\n",
       "      <td>359</td>\n",
       "      <td>-10.00000</td>\n",
       "      <td>0</td>\n",
       "      <td>NaN</td>\n",
       "      <td>NaN</td>\n",
       "      <td>5.6</td>\n",
       "      <td>5.00</td>\n",
       "      <td>4.2</td>\n",
       "      <td>5.8</td>\n",
       "      <td>4.40</td>\n",
       "      <td>4.4</td>\n",
       "    </tr>\n",
       "    <tr>\n",
       "      <td>148</td>\n",
       "      <td>363</td>\n",
       "      <td>21.20548</td>\n",
       "      <td>1</td>\n",
       "      <td>HighSchoolGrad</td>\n",
       "      <td>20to49k</td>\n",
       "      <td>4.6</td>\n",
       "      <td>4.80</td>\n",
       "      <td>3.4</td>\n",
       "      <td>4.4</td>\n",
       "      <td>2.80</td>\n",
       "      <td>4.4</td>\n",
       "    </tr>\n",
       "  </tbody>\n",
       "</table>\n",
       "<p>149 rows × 11 columns</p>\n",
       "</div>"
      ],
      "text/plain": [
       "      ID  AgeYears  GenderFactor         EducDeg             Income  JE_5D  \\\n",
       "0    101  23.27945             0      BachDegree            20to49k    4.4   \n",
       "1    104  30.84384             0      BachDegree           under20k    3.2   \n",
       "2    105  31.26849             0          Master          150to199k    3.0   \n",
       "3    106  25.99452             0      BachDegree          100to149k    5.6   \n",
       "4    107  65.23562             0          Master            50to74k    3.4   \n",
       "..   ...       ...           ...             ...                ...    ...   \n",
       "144  353  24.70959             1      BachDegree  PreferNotToAnswer    4.0   \n",
       "145  355  27.08493             0          Master            20to49k    4.6   \n",
       "146  356  22.19178             0      BachDegree          100to149k    4.6   \n",
       "147  359 -10.00000             0             NaN                NaN    5.6   \n",
       "148  363  21.20548             1  HighSchoolGrad            20to49k    4.6   \n",
       "\n",
       "     DS_5D  ST_5D_R  SC_5D  TS_5D  LSMean  \n",
       "0     4.25      4.4    2.8   2.00     4.0  \n",
       "1     2.50      3.6    4.0   0.00     6.0  \n",
       "2     3.00      3.0    2.4   1.00     6.0  \n",
       "3     3.50      4.6    5.2   1.25     5.6  \n",
       "4     2.75      3.5    2.4   0.75     3.6  \n",
       "..     ...      ...    ...    ...     ...  \n",
       "144   3.20      1.2    4.4   2.40     5.0  \n",
       "145   3.20      2.8    4.8   1.00     4.6  \n",
       "146   4.40      4.6    4.2   3.00     4.6  \n",
       "147   5.00      4.2    5.8   4.40     4.4  \n",
       "148   4.80      3.4    4.4   2.80     4.4  \n",
       "\n",
       "[149 rows x 11 columns]"
      ]
     },
     "metadata": {
      "tags": []
     },
     "output_type": "display_data"
    }
   ],
   "source": [
    "# import packages\n",
    "\n",
    "import sys\n",
    "import os\n",
    "import numpy as np\n",
    "import h5py\n",
    "import matplotlib.pyplot as pyplot\n",
    "import scipy.io as sio\n",
    "from scipy import stats\n",
    "import seaborn as sns\n",
    "import networkx as nx\n",
    "import pandas as pd\n",
    "from math import factorial as f\n",
    "import glob\n",
    "import random\n",
    "from scipy.stats import chisquare\n",
    "import math\n",
    "import bct\n",
    "\n",
    "# gathering messy phenotypic data\n",
    "df = pd.read_csv(\"KNOTData_phenotypic_messy.csv\")\n",
    "display(df)\n",
    "\n",
    "# directory of python file and data files\n",
    "basedir = r\"C:/Users/aprup/Documents/Classes - Spring 2020/ENM 375/Midterm Project/\"\n",
    "folders = os.listdir(\"KNOTData_processed\")\n",
    "fold = \"KNOTData_processed/\"\n",
    "specific = \"/PossibleNetwork.txt\"\n",
    "\n",
    "# we see that the last two elements of the list of folders; we want to remove KNOTData_phenotypic_messy.csv and __MACOSX\n",
    "res = folders[: len(folders) - 2] \n",
    "#print(res) # folders for each PossibleNetwork.txt file\n",
    "\n",
    "networks = []\n",
    "for subjectID in res:\n",
    "    subjectNetwork = np.loadtxt(basedir + fold + subjectID + specific)\n",
    "    networks.append(subjectNetwork)\n",
    "# print(len(networks)) # check to see that we have appropriately loaded the networks"
   ]
  },
  {
   "cell_type": "markdown",
   "metadata": {
    "colab_type": "text",
    "id": "Cv-0drNZty0N"
   },
   "source": [
    "#### Essay Portion:"
   ]
  },
  {
   "cell_type": "markdown",
   "metadata": {
    "colab_type": "text",
    "id": "a9WP_2s2ty0N"
   },
   "source": [
    "I chose to organize the phenotypic data in a Dataframe, which has labeled columns for each data set per subject. I organized the potential knowledge network matrices into a list of each network, which includes the information from the corresponding text file for each subject. Using these organizations, I can separate the information for each subject. "
   ]
  },
  {
   "cell_type": "markdown",
   "metadata": {
    "colab_type": "text",
    "id": "eZivY-cKmmUf"
   },
   "source": [
    "JCA:\n",
    "\n",
    "+1 import phenotypic data correctly\n",
    "\n",
    "+1 import network data correctly\n",
    "\n",
    "+0.5 working code\n",
    "\n",
    "+0.5 commented code\n",
    "\n",
    "+1 essay question correct\n"
   ]
  },
  {
   "cell_type": "markdown",
   "metadata": {
    "colab_type": "text",
    "id": "7qZ_9tT4ty0O"
   },
   "source": [
    "### Q2  Examining the Data"
   ]
  },
  {
   "cell_type": "markdown",
   "metadata": {
    "colab_type": "text",
    "id": "ZHgHgS1tty0O"
   },
   "source": [
    "#### Data Science Portion:"
   ]
  },
  {
   "cell_type": "code",
   "execution_count": 0,
   "metadata": {
    "colab": {},
    "colab_type": "code",
    "id": "N8XMLiHTty0P",
    "outputId": "430bbe80-6843-415c-83ba-a27992c05652"
   },
   "outputs": [
    {
     "data": {
      "text/html": [
       "<div>\n",
       "<style scoped>\n",
       "    .dataframe tbody tr th:only-of-type {\n",
       "        vertical-align: middle;\n",
       "    }\n",
       "\n",
       "    .dataframe tbody tr th {\n",
       "        vertical-align: top;\n",
       "    }\n",
       "\n",
       "    .dataframe thead th {\n",
       "        text-align: right;\n",
       "    }\n",
       "</style>\n",
       "<table border=\"1\" class=\"dataframe\">\n",
       "  <thead>\n",
       "    <tr style=\"text-align: right;\">\n",
       "      <th></th>\n",
       "      <th>Minimum</th>\n",
       "      <th>Maximum</th>\n",
       "      <th>Number of Categories</th>\n",
       "    </tr>\n",
       "  </thead>\n",
       "  <tbody>\n",
       "    <tr>\n",
       "      <td>Age</td>\n",
       "      <td>-10</td>\n",
       "      <td>65.2356</td>\n",
       "      <td>N/A</td>\n",
       "    </tr>\n",
       "    <tr>\n",
       "      <td>Joyous Exploration</td>\n",
       "      <td>-3</td>\n",
       "      <td>6</td>\n",
       "      <td>N/A</td>\n",
       "    </tr>\n",
       "    <tr>\n",
       "      <td>Deprivation Sensitivity</td>\n",
       "      <td>-3</td>\n",
       "      <td>5.8</td>\n",
       "      <td>N/A</td>\n",
       "    </tr>\n",
       "    <tr>\n",
       "      <td>Stress Tolerance</td>\n",
       "      <td>0</td>\n",
       "      <td>10</td>\n",
       "      <td>N/A</td>\n",
       "    </tr>\n",
       "    <tr>\n",
       "      <td>Thrill Seeking</td>\n",
       "      <td>0</td>\n",
       "      <td>10</td>\n",
       "      <td>N/A</td>\n",
       "    </tr>\n",
       "    <tr>\n",
       "      <td>Life Satisfaction</td>\n",
       "      <td>1</td>\n",
       "      <td>7</td>\n",
       "      <td>N/A</td>\n",
       "    </tr>\n",
       "    <tr>\n",
       "      <td>Gender</td>\n",
       "      <td>N/A</td>\n",
       "      <td>N/A</td>\n",
       "      <td>3</td>\n",
       "    </tr>\n",
       "    <tr>\n",
       "      <td>Education</td>\n",
       "      <td>N/A</td>\n",
       "      <td>N/A</td>\n",
       "      <td>7</td>\n",
       "    </tr>\n",
       "    <tr>\n",
       "      <td>Income</td>\n",
       "      <td>N/A</td>\n",
       "      <td>N/A</td>\n",
       "      <td>9</td>\n",
       "    </tr>\n",
       "  </tbody>\n",
       "</table>\n",
       "</div>"
      ],
      "text/plain": [
       "                        Minimum  Maximum Number of Categories\n",
       "Age                         -10  65.2356                  N/A\n",
       "Joyous Exploration           -3        6                  N/A\n",
       "Deprivation Sensitivity      -3      5.8                  N/A\n",
       "Stress Tolerance              0       10                  N/A\n",
       "Thrill Seeking                0       10                  N/A\n",
       "Life Satisfaction             1        7                  N/A\n",
       "Gender                      N/A      N/A                    3\n",
       "Education                   N/A      N/A                    7\n",
       "Income                      N/A      N/A                    9"
      ]
     },
     "metadata": {
      "tags": []
     },
     "output_type": "display_data"
    }
   ],
   "source": [
    "# creating variables for each category of the data\n",
    "ages = df['AgeYears']\n",
    "gender = df['GenderFactor']\n",
    "education = df['EducDeg']\n",
    "income = df['Income']\n",
    "joyExp = df['JE_5D']\n",
    "depSens = df['DS_5D']\n",
    "stressTol = df['ST_5D_R']\n",
    "socCur = df['SC_5D']\n",
    "thrillSeek = df['TS_5D']\n",
    "lifeSat = df['LSMean']\n",
    "\n",
    "# collecting ranges\n",
    "# print('Ages Range: ', min(ages), 'to', max(ages))\n",
    "# print('Joy Exploration Range: ', min(joyExp), 'to', max(joyExp))\n",
    "# print('Deprivation Sensitivity Range: ', min(depSens), 'to', max(depSens))\n",
    "# print('Stress Tolerance Range: ', min(stressTol), 'to', max(stressTol))\n",
    "# print('Social Curiosity Range: ', min(socCur), 'to', max(socCur))\n",
    "# print('Thrill Seeking Range: ', min(thrillSeek), 'to', max(thrillSeek))\n",
    "# print('Life Satisfaction Range: ', min(lifeSat), 'to', max(lifeSat))\n",
    "\n",
    "# gathering number of categories for Gender, Education, and Income\n",
    "genderCategories = pd.unique(df['GenderFactor'])\n",
    "educationCategories = pd.unique(df['EducDeg'])\n",
    "incomeCategories = pd.unique(df['Income'])\n",
    "\n",
    "# List of tuples\n",
    "rangesCategories = [(min(ages), max(ages), 'N/A'),\n",
    "(min(joyExp), max(joyExp), 'N/A'),\n",
    "(min(depSens), max(depSens), 'N/A'),\n",
    "(min(socCur), max(socCur), 'N/A'),\n",
    "(min(thrillSeek), max(thrillSeek), 'N/A'),\n",
    "(min(lifeSat), max(lifeSat), 'N/A'),\n",
    "('N/A', 'N/A', len(genderCategories)),\n",
    "('N/A', 'N/A', len(educationCategories)),\n",
    "('N/A', 'N/A', len(incomeCategories))]\n",
    "\n",
    "# creating table\n",
    "tableRangesCategories = pd.DataFrame(rangesCategories, columns = [\"Minimum\", \"Maximum\", \"Number of Categories\"], index=['Age', 'Joyous Exploration', 'Deprivation Sensitivity', 'Stress Tolerance', 'Thrill Seeking', 'Life Satisfaction', 'Gender', 'Education', 'Income'])\n",
    "display(tableRangesCategories)"
   ]
  },
  {
   "cell_type": "markdown",
   "metadata": {
    "colab_type": "text",
    "id": "PbnLWzb3ty0R"
   },
   "source": [
    "#### Essay Portion:"
   ]
  },
  {
   "cell_type": "markdown",
   "metadata": {
    "colab_type": "text",
    "id": "gUWPqeRfty0R"
   },
   "source": [
    "Ages Range: -10.0 to 65.23562\n",
    "\n",
    "Joy Exploration Range: -3.0 to 6.0\n",
    "\n",
    "Deprivation Sensitivity Range: -3.0 to 5.8\n",
    "\n",
    "Stress Tolerance Range: 0.4 to 6.0\n",
    "\n",
    "Social Curiosity Range: 0.0 to 10.0\n",
    "\n",
    "Thrill Seeking Range: 0.0 to 10.0\n",
    "\n",
    "Life Satisfaction Range: 1.0 to 7.0\n",
    "\n",
    "Number of Categories for Gender: 3\n",
    "\n",
    "Number of Categories for Education: 7\n",
    "\n",
    "Number of Categories for Income: 9\n",
    "\n",
    "When comparing the number of categories to the givens, we see that Education and Income each have one extra category. We also see that the range of ages, joyous exploration, social curiosity, and thrill seeking all seem to exceed their respective given ranges."
   ]
  },
  {
   "cell_type": "markdown",
   "metadata": {
    "colab_type": "text",
    "id": "ShYuo3Cjmxmz"
   },
   "source": [
    "JCA:\n",
    "\n",
    "+1 get numeric range correctly\n",
    "\n",
    "+1 get categories correctly\n",
    "\n",
    "+0.5 working code\n",
    "\n",
    "+0.5 commented code\n",
    "\n",
    "+1 essay question correct\n"
   ]
  },
  {
   "cell_type": "markdown",
   "metadata": {
    "colab_type": "text",
    "id": "4Ko8qMp1ty0S"
   },
   "source": [
    "### Q3  Visualizing the Raw Data"
   ]
  },
  {
   "cell_type": "markdown",
   "metadata": {
    "colab_type": "text",
    "id": "mey4rPmuty0S"
   },
   "source": [
    "#### Data Science Portion:"
   ]
  },
  {
   "cell_type": "code",
   "execution_count": 0,
   "metadata": {
    "colab": {},
    "colab_type": "code",
    "id": "_dbRPx4cty0T",
    "outputId": "83a52484-9ee2-4b9e-bd5c-48e82de6e0aa"
   },
   "outputs": [
    {
     "data": {
      "image/png": "[encoded data removed]",
      "text/plain": [
       "<Figure size 432x288 with 1 Axes>"
      ]
     },
     "metadata": {
      "needs_background": "light",
      "tags": []
     },
     "output_type": "display_data"
    },
    {
     "data": {
      "image/png": "[encoded data removed]",
      "text/plain": [
       "<Figure size 432x288 with 1 Axes>"
      ]
     },
     "metadata": {
      "needs_background": "light",
      "tags": []
     },
     "output_type": "display_data"
    },
    {
     "data": {
      "image/png": "[encoded data removed]",
      "text/plain": [
       "<Figure size 432x288 with 1 Axes>"
      ]
     },
     "metadata": {
      "needs_background": "light",
      "tags": []
     },
     "output_type": "display_data"
    },
    {
     "data": {
      "image/png": "[encoded data removed]",
      "text/plain": [
       "<Figure size 432x288 with 1 Axes>"
      ]
     },
     "metadata": {
      "needs_background": "light",
      "tags": []
     },
     "output_type": "display_data"
    },
    {
     "data": {
      "image/png": "[encoded data removed]",
      "text/plain": [
       "<Figure size 432x288 with 1 Axes>"
      ]
     },
     "metadata": {
      "needs_background": "light",
      "tags": []
     },
     "output_type": "display_data"
    },
    {
     "data": {
      "image/png": "[encoded data removed]",
      "text/plain": [
       "<Figure size 432x288 with 1 Axes>"
      ]
     },
     "metadata": {
      "needs_background": "light",
      "tags": []
     },
     "output_type": "display_data"
    },
    {
     "data": {
      "image/png": "[encoded data removed]",
      "text/plain": [
       "<Figure size 432x288 with 1 Axes>"
      ]
     },
     "metadata": {
      "needs_background": "light",
      "tags": []
     },
     "output_type": "display_data"
    }
   ],
   "source": [
    "ax = df.hist(['AgeYears'], grid = False, color='DarkBlue')\n",
    "ax = ax[0]\n",
    "for x in ax:\n",
    "    x.set_xlabel(\"Age (Years)\")\n",
    "    x.set_ylabel(\"Frequency\")\n",
    "    x.set_title(\"Age Distribution\")\n",
    "    \n",
    "ax = df.hist(['JE_5D'], grid = False, color='Orange')\n",
    "ax = ax[0]\n",
    "for x in ax:\n",
    "    x.set_xlabel(\"Joyous Exploration\")\n",
    "    x.set_ylabel(\"Frequency\")\n",
    "    x.set_title(\"Joyous Exploration Distribution\")\n",
    "    \n",
    "ax = df.hist(['DS_5D'], grid = False, color='Purple')\n",
    "ax = ax[0]\n",
    "for x in ax:\n",
    "    x.set_xlabel(\"Deprivation Sensitivity\")\n",
    "    x.set_ylabel(\"Frequency\")\n",
    "    x.set_title(\"Deprivation Sensitivity Distribution\")\n",
    "    \n",
    "ax = df.hist(['ST_5D_R'], grid = False, color='DarkGreen')\n",
    "ax = ax[0]\n",
    "for x in ax:\n",
    "    x.set_xlabel(\"Stress Tolerance\")\n",
    "    x.set_ylabel(\"Frequency\")\n",
    "    x.set_title(\"Stress Tolerance Distribution\")\n",
    "    \n",
    "ax = df.hist(['SC_5D'], grid = False, color='DarkRed')\n",
    "ax = ax[0]\n",
    "for x in ax:\n",
    "    x.set_xlabel(\"Social Curiosity\")\n",
    "    x.set_ylabel(\"Frequency\")\n",
    "    x.set_title(\"Social Curiosity Distribution\")\n",
    "    \n",
    "ax = df.hist(['TS_5D'], grid = False, color='Yellow')\n",
    "ax = ax[0]\n",
    "for x in ax:\n",
    "    x.set_xlabel(\"Thrill Seeking\")\n",
    "    x.set_ylabel(\"Frequency\")\n",
    "    x.set_title(\"Thrill Seeking Distribution\")\n",
    "    \n",
    "ax = df.hist(['LSMean'], grid = False, color='Pink')\n",
    "ax = ax[0]\n",
    "for x in ax:\n",
    "    x.set_xlabel(\"Life Satisfaction\")\n",
    "    x.set_ylabel(\"Frequency\")\n",
    "    x.set_title(\"Life Satisfaction Distribution\")"
   ]
  },
  {
   "cell_type": "markdown",
   "metadata": {
    "colab_type": "text",
    "id": "lmLn21iuty0V"
   },
   "source": [
    "#### Essay Portion:"
   ]
  },
  {
   "cell_type": "markdown",
   "metadata": {
    "colab_type": "text",
    "id": "PM1YppSFty0V"
   },
   "source": [
    "There are a few things to note about the histograms above. I will describe these specific to each histogram.\n",
    "\n",
    "1) Age: This histogram is unimodal and seems to have no skew. However, we do see that there are some values which are negative, which is not expected for \"age,\" which leads me to believe that there are some mistakes in the data. There are also values which exist outside of the given range, which should not be considered. I used the Sturges rule.\n",
    "\n",
    "2) Joyous Exploration: This histogram is also unimodal and has a strong left skew. It also has some negative values, which are outside of the given range. I used the Sturges rule. This bin size illustrates the data well, and makes it clear that the negative values is separate and possibly a mistake.\n",
    "\n",
    "3) Deprivation Sensitivity: This histogram is also unimodal, but with a weaker left skew than Joyous Exploration. It also seems to have some negative values, which are outside of the given range. I used the Sturges rule. This bin size illustrates the data well, and makes it clear that the negative values is separate and possibly a mistake.\n",
    "\n",
    "4) Stress Tolerance: This histogram is unimodal, but with relatively weaker left skew. All of the values seem to be within the given range. I used the Sturges rule. This bin size illustrates the data well because it allows us to visualize the trends in the data.\n",
    "\n",
    "5) Social Curiosity: This histogram is unimodal with a strong left skew. There is a value outside of the given range, which leads me to believe that it is an error. I used the Sturges rule. This bin size illustrates the data well because it appropriately describes the data's distribution, and distinctly shows the value in the data that is out of the given range.\n",
    "\n",
    "6) Thrill Seeking: This histogram is unimodal with no skew. It is clear to see that there is a value outside of the given range, which leads me to believe that it is an error. I used the Sturges rule. This bin size illustrates the data well because it appropriately describes the data's distribution, and distinctly shows the value in the data that is out of the given range.\n",
    "\n",
    "7) Life Satisfaction: This histogram is unimodal with a left skew. There do seem to be some data values outside of the given range, which leads me to believe that it is an error. I used the Sturges rule. This bin size illustrates the data well because it appropriately describes the data's distribution, and shows the value in the data that is out of the given range.\n",
    "\n",
    "For all of the histograms I created, I chose varied numbers of bin sizes until I landed at a bin size that distincly and effectively illustrated high incidence, which was dependent on the ability to group the data, as well as ability to see the differentiation. I used the Sturges rule."
   ]
  },
  {
   "cell_type": "markdown",
   "metadata": {
    "colab_type": "text",
    "id": "MO5O1kdQm2hR"
   },
   "source": [
    "JCA: \n",
    "\n",
    "+1 clearly labeled axes, title/legend (+0.5 each)\n",
    "\n",
    "+2 histograms plotted\n",
    "\n",
    "+1 appropriate number of bins chosen (5 or more)\n",
    "\n",
    "+0.5 working code\n",
    "\n",
    "+0.5 commented code\n",
    "\n",
    "+2 correct essay\n",
    "\n"
   ]
  },
  {
   "cell_type": "markdown",
   "metadata": {
    "colab_type": "text",
    "id": "sSWP352tty0W"
   },
   "source": [
    "### Q4  Fixing the Messy Data"
   ]
  },
  {
   "cell_type": "markdown",
   "metadata": {
    "colab_type": "text",
    "id": "Kchdp6GFty0W"
   },
   "source": [
    "#### Data Science Portion:"
   ]
  },
  {
   "cell_type": "code",
   "execution_count": 0,
   "metadata": {
    "colab": {},
    "colab_type": "code",
    "id": "uWZhHlaity0X",
    "outputId": "2f6dfd1c-87c4-4b7a-8fd1-8a0eec39ba30",
    "scrolled": true
   },
   "outputs": [
    {
     "data": {
      "text/html": [
       "<div>\n",
       "<style scoped>\n",
       "    .dataframe tbody tr th:only-of-type {\n",
       "        vertical-align: middle;\n",
       "    }\n",
       "\n",
       "    .dataframe tbody tr th {\n",
       "        vertical-align: top;\n",
       "    }\n",
       "\n",
       "    .dataframe thead th {\n",
       "        text-align: right;\n",
       "    }\n",
       "</style>\n",
       "<table border=\"1\" class=\"dataframe\">\n",
       "  <thead>\n",
       "    <tr style=\"text-align: right;\">\n",
       "      <th></th>\n",
       "      <th>ID</th>\n",
       "      <th>AgeYears</th>\n",
       "      <th>GenderFactor</th>\n",
       "      <th>EducDeg</th>\n",
       "      <th>Income</th>\n",
       "      <th>JE_5D</th>\n",
       "      <th>DS_5D</th>\n",
       "      <th>ST_5D_R</th>\n",
       "      <th>SC_5D</th>\n",
       "      <th>TS_5D</th>\n",
       "      <th>LSMean</th>\n",
       "    </tr>\n",
       "  </thead>\n",
       "  <tbody>\n",
       "    <tr>\n",
       "      <td>0</td>\n",
       "      <td>101</td>\n",
       "      <td>23.279450</td>\n",
       "      <td>0</td>\n",
       "      <td>BachDegree</td>\n",
       "      <td>20to49k</td>\n",
       "      <td>4.4</td>\n",
       "      <td>4.25</td>\n",
       "      <td>4.4</td>\n",
       "      <td>2.8</td>\n",
       "      <td>2.00</td>\n",
       "      <td>4.0</td>\n",
       "    </tr>\n",
       "    <tr>\n",
       "      <td>1</td>\n",
       "      <td>104</td>\n",
       "      <td>30.843840</td>\n",
       "      <td>0</td>\n",
       "      <td>BachDegree</td>\n",
       "      <td>under20k</td>\n",
       "      <td>3.2</td>\n",
       "      <td>2.50</td>\n",
       "      <td>3.6</td>\n",
       "      <td>4.0</td>\n",
       "      <td>0.00</td>\n",
       "      <td>6.0</td>\n",
       "    </tr>\n",
       "    <tr>\n",
       "      <td>2</td>\n",
       "      <td>105</td>\n",
       "      <td>31.268490</td>\n",
       "      <td>0</td>\n",
       "      <td>Master</td>\n",
       "      <td>150to199k</td>\n",
       "      <td>3.0</td>\n",
       "      <td>3.00</td>\n",
       "      <td>3.0</td>\n",
       "      <td>2.4</td>\n",
       "      <td>1.00</td>\n",
       "      <td>6.0</td>\n",
       "    </tr>\n",
       "    <tr>\n",
       "      <td>3</td>\n",
       "      <td>106</td>\n",
       "      <td>25.994520</td>\n",
       "      <td>0</td>\n",
       "      <td>BachDegree</td>\n",
       "      <td>100to149k</td>\n",
       "      <td>5.6</td>\n",
       "      <td>3.50</td>\n",
       "      <td>4.6</td>\n",
       "      <td>5.2</td>\n",
       "      <td>1.25</td>\n",
       "      <td>5.6</td>\n",
       "    </tr>\n",
       "    <tr>\n",
       "      <td>4</td>\n",
       "      <td>107</td>\n",
       "      <td>65.235620</td>\n",
       "      <td>0</td>\n",
       "      <td>Master</td>\n",
       "      <td>50to74k</td>\n",
       "      <td>3.4</td>\n",
       "      <td>2.75</td>\n",
       "      <td>3.5</td>\n",
       "      <td>2.4</td>\n",
       "      <td>0.75</td>\n",
       "      <td>3.6</td>\n",
       "    </tr>\n",
       "    <tr>\n",
       "      <td>...</td>\n",
       "      <td>...</td>\n",
       "      <td>...</td>\n",
       "      <td>...</td>\n",
       "      <td>...</td>\n",
       "      <td>...</td>\n",
       "      <td>...</td>\n",
       "      <td>...</td>\n",
       "      <td>...</td>\n",
       "      <td>...</td>\n",
       "      <td>...</td>\n",
       "      <td>...</td>\n",
       "    </tr>\n",
       "    <tr>\n",
       "      <td>143</td>\n",
       "      <td>351</td>\n",
       "      <td>31.038356</td>\n",
       "      <td>0</td>\n",
       "      <td>Master</td>\n",
       "      <td>50to74k</td>\n",
       "      <td>5.8</td>\n",
       "      <td>4.60</td>\n",
       "      <td>5.0</td>\n",
       "      <td>6.0</td>\n",
       "      <td>4.80</td>\n",
       "      <td>4.8</td>\n",
       "    </tr>\n",
       "    <tr>\n",
       "      <td>144</td>\n",
       "      <td>353</td>\n",
       "      <td>24.709590</td>\n",
       "      <td>1</td>\n",
       "      <td>BachDegree</td>\n",
       "      <td>PreferNotToAnswer</td>\n",
       "      <td>4.0</td>\n",
       "      <td>3.20</td>\n",
       "      <td>1.2</td>\n",
       "      <td>4.4</td>\n",
       "      <td>2.40</td>\n",
       "      <td>5.0</td>\n",
       "    </tr>\n",
       "    <tr>\n",
       "      <td>145</td>\n",
       "      <td>355</td>\n",
       "      <td>27.084930</td>\n",
       "      <td>0</td>\n",
       "      <td>Master</td>\n",
       "      <td>20to49k</td>\n",
       "      <td>4.6</td>\n",
       "      <td>3.20</td>\n",
       "      <td>2.8</td>\n",
       "      <td>4.8</td>\n",
       "      <td>1.00</td>\n",
       "      <td>4.6</td>\n",
       "    </tr>\n",
       "    <tr>\n",
       "      <td>146</td>\n",
       "      <td>356</td>\n",
       "      <td>22.191780</td>\n",
       "      <td>0</td>\n",
       "      <td>BachDegree</td>\n",
       "      <td>100to149k</td>\n",
       "      <td>4.6</td>\n",
       "      <td>4.40</td>\n",
       "      <td>4.6</td>\n",
       "      <td>4.2</td>\n",
       "      <td>3.00</td>\n",
       "      <td>4.6</td>\n",
       "    </tr>\n",
       "    <tr>\n",
       "      <td>148</td>\n",
       "      <td>363</td>\n",
       "      <td>21.205480</td>\n",
       "      <td>1</td>\n",
       "      <td>HighSchoolGrad</td>\n",
       "      <td>20to49k</td>\n",
       "      <td>4.6</td>\n",
       "      <td>4.80</td>\n",
       "      <td>3.4</td>\n",
       "      <td>4.4</td>\n",
       "      <td>2.80</td>\n",
       "      <td>4.4</td>\n",
       "    </tr>\n",
       "  </tbody>\n",
       "</table>\n",
       "<p>140 rows × 11 columns</p>\n",
       "</div>"
      ],
      "text/plain": [
       "      ID   AgeYears  GenderFactor         EducDeg             Income  JE_5D  \\\n",
       "0    101  23.279450             0      BachDegree            20to49k    4.4   \n",
       "1    104  30.843840             0      BachDegree           under20k    3.2   \n",
       "2    105  31.268490             0          Master          150to199k    3.0   \n",
       "3    106  25.994520             0      BachDegree          100to149k    5.6   \n",
       "4    107  65.235620             0          Master            50to74k    3.4   \n",
       "..   ...        ...           ...             ...                ...    ...   \n",
       "143  351  31.038356             0          Master            50to74k    5.8   \n",
       "144  353  24.709590             1      BachDegree  PreferNotToAnswer    4.0   \n",
       "145  355  27.084930             0          Master            20to49k    4.6   \n",
       "146  356  22.191780             0      BachDegree          100to149k    4.6   \n",
       "148  363  21.205480             1  HighSchoolGrad            20to49k    4.6   \n",
       "\n",
       "     DS_5D  ST_5D_R  SC_5D  TS_5D  LSMean  \n",
       "0     4.25      4.4    2.8   2.00     4.0  \n",
       "1     2.50      3.6    4.0   0.00     6.0  \n",
       "2     3.00      3.0    2.4   1.00     6.0  \n",
       "3     3.50      4.6    5.2   1.25     5.6  \n",
       "4     2.75      3.5    2.4   0.75     3.6  \n",
       "..     ...      ...    ...    ...     ...  \n",
       "143   4.60      5.0    6.0   4.80     4.8  \n",
       "144   3.20      1.2    4.4   2.40     5.0  \n",
       "145   3.20      2.8    4.8   1.00     4.6  \n",
       "146   4.40      4.6    4.2   3.00     4.6  \n",
       "148   4.80      3.4    4.4   2.80     4.4  \n",
       "\n",
       "[140 rows x 11 columns]"
      ]
     },
     "metadata": {
      "tags": []
     },
     "output_type": "display_data"
    }
   ],
   "source": [
    "# filtering out unwanted code\n",
    "df = df.loc[(df['AgeYears']>=18.2137) & (df['AgeYears'] <= 65.23562)]\n",
    "df = df.loc[(df['JE_5D']>=0) & (df['JE_5D'] <= 6)]\n",
    "df = df.loc[(df['DS_5D']>=0) & (df['DS_5D'] <= 6)]\n",
    "df = df.loc[(df['ST_5D_R']>=0) & (df['ST_5D_R'] <= 6)]\n",
    "df = df.loc[(df['SC_5D']>=0) & (df['SC_5D'] <= 6)]\n",
    "df = df.loc[(df['TS_5D']>=0) & (df['TS_5D'] <= 6)]\n",
    "df = df.loc[(df['LSMean']>=1) & (df['LSMean'] <= 7)]\n",
    "df = df.loc[(df['LSMean']>=1) & (df['LSMean'] <= 7)]\n",
    "df = df.loc[(df['LSMean']>=1) & (df['LSMean'] <= 7)]\n",
    "subset = []\n",
    "df = df.dropna()\n",
    "cleandf = df # cleaned DataFrame\n",
    "display(cleandf)\n",
    "\n",
    "IDlist = cleandf['ID'].tolist()\n",
    "# print(IDlist)\n",
    "IDlistStrings = [str(item) for item in IDlist]\n",
    "# print(IDlistStrings)\n",
    "\n",
    "# directory of python file and data files\n",
    "basedir = r\"C:/Users/aprup/Documents/Classes - Spring 2020/ENM 375/Midterm Project/\"\n",
    "folders = os.listdir(\"KNOTData_processed\")\n",
    "fold = \"KNOTData_processed/\"\n",
    "specific = \"/PossibleNetwork.txt\"\n",
    "\n",
    "cleanNetworks = []\n",
    "for i in IDlistStrings:\n",
    "    cleanSubjectNetwork = np.loadtxt(basedir + fold + i + specific)\n",
    "    cleanNetworks.append(cleanSubjectNetwork)\n",
    "# print(len(cleanNetworks)) # check to see that we have appropriately loaded the networks; since 141 is less than original 149, we see that the invalid data was removed successfully"
   ]
  },
  {
   "cell_type": "markdown",
   "metadata": {
    "colab_type": "text",
    "id": "aY3sj270ty0Y"
   },
   "source": [
    "#### Essay Portion:"
   ]
  },
  {
   "cell_type": "markdown",
   "metadata": {
    "colab_type": "text",
    "id": "zWg2NcNity0Y"
   },
   "source": [
    "Seeing that our new DataFrame has 140 rows, this means that we eliminated 149 - 140 = 9 subjects from the original DataFrame. The total number of subjects remaining is 140."
   ]
  },
  {
   "cell_type": "markdown",
   "metadata": {
    "colab_type": "text",
    "id": "m2CW7V0tm-SR"
   },
   "source": [
    "JCA:\n",
    "\n",
    "+2 filter out nan\n",
    "\n",
    "+2 filter out infeasible values (out of range)\n",
    "\n",
    "+0.5 working code\n",
    "\n",
    "+0.5 commented code\n",
    "\n",
    "+1 essay question correct (+0.5 for each)\n"
   ]
  },
  {
   "cell_type": "markdown",
   "metadata": {
    "colab_type": "text",
    "id": "uAI2aGHSty0Z"
   },
   "source": [
    "### Q5  Data Transformation"
   ]
  },
  {
   "cell_type": "markdown",
   "metadata": {
    "colab_type": "text",
    "id": "c7RcIDJ_ty0Z"
   },
   "source": [
    "#### Data Science Portion:"
   ]
  },
  {
   "cell_type": "code",
   "execution_count": 0,
   "metadata": {
    "colab": {},
    "colab_type": "code",
    "id": "v65U_LQ1ty0a",
    "outputId": "a68fbd6d-edc7-479f-87d7-a666e5bd983d"
   },
   "outputs": [
    {
     "data": {
      "text/html": [
       "<div>\n",
       "<style scoped>\n",
       "    .dataframe tbody tr th:only-of-type {\n",
       "        vertical-align: middle;\n",
       "    }\n",
       "\n",
       "    .dataframe tbody tr th {\n",
       "        vertical-align: top;\n",
       "    }\n",
       "\n",
       "    .dataframe thead th {\n",
       "        text-align: right;\n",
       "    }\n",
       "</style>\n",
       "<table border=\"1\" class=\"dataframe\">\n",
       "  <thead>\n",
       "    <tr style=\"text-align: right;\">\n",
       "      <th></th>\n",
       "      <th>ID</th>\n",
       "      <th>AgeYears</th>\n",
       "      <th>GenderFactor</th>\n",
       "      <th>EducDeg</th>\n",
       "      <th>Income</th>\n",
       "      <th>JE_5D</th>\n",
       "      <th>DS_5D</th>\n",
       "      <th>ST_5D_R</th>\n",
       "      <th>SC_5D</th>\n",
       "      <th>TS_5D</th>\n",
       "      <th>LSMean</th>\n",
       "      <th>Avg_5D</th>\n",
       "    </tr>\n",
       "  </thead>\n",
       "  <tbody>\n",
       "    <tr>\n",
       "      <td>0</td>\n",
       "      <td>101</td>\n",
       "      <td>23.279450</td>\n",
       "      <td>0</td>\n",
       "      <td>BachDegree</td>\n",
       "      <td>2</td>\n",
       "      <td>4.4</td>\n",
       "      <td>4.25</td>\n",
       "      <td>4.4</td>\n",
       "      <td>2.8</td>\n",
       "      <td>2.00</td>\n",
       "      <td>4.0</td>\n",
       "      <td>3.57</td>\n",
       "    </tr>\n",
       "    <tr>\n",
       "      <td>1</td>\n",
       "      <td>104</td>\n",
       "      <td>30.843840</td>\n",
       "      <td>0</td>\n",
       "      <td>BachDegree</td>\n",
       "      <td>1</td>\n",
       "      <td>3.2</td>\n",
       "      <td>2.50</td>\n",
       "      <td>3.6</td>\n",
       "      <td>4.0</td>\n",
       "      <td>0.00</td>\n",
       "      <td>6.0</td>\n",
       "      <td>2.66</td>\n",
       "    </tr>\n",
       "    <tr>\n",
       "      <td>2</td>\n",
       "      <td>105</td>\n",
       "      <td>31.268490</td>\n",
       "      <td>0</td>\n",
       "      <td>Master</td>\n",
       "      <td>6</td>\n",
       "      <td>3.0</td>\n",
       "      <td>3.00</td>\n",
       "      <td>3.0</td>\n",
       "      <td>2.4</td>\n",
       "      <td>1.00</td>\n",
       "      <td>6.0</td>\n",
       "      <td>2.48</td>\n",
       "    </tr>\n",
       "    <tr>\n",
       "      <td>3</td>\n",
       "      <td>106</td>\n",
       "      <td>25.994520</td>\n",
       "      <td>0</td>\n",
       "      <td>BachDegree</td>\n",
       "      <td>5</td>\n",
       "      <td>5.6</td>\n",
       "      <td>3.50</td>\n",
       "      <td>4.6</td>\n",
       "      <td>5.2</td>\n",
       "      <td>1.25</td>\n",
       "      <td>5.6</td>\n",
       "      <td>4.03</td>\n",
       "    </tr>\n",
       "    <tr>\n",
       "      <td>4</td>\n",
       "      <td>107</td>\n",
       "      <td>65.235620</td>\n",
       "      <td>0</td>\n",
       "      <td>Master</td>\n",
       "      <td>3</td>\n",
       "      <td>3.4</td>\n",
       "      <td>2.75</td>\n",
       "      <td>3.5</td>\n",
       "      <td>2.4</td>\n",
       "      <td>0.75</td>\n",
       "      <td>3.6</td>\n",
       "      <td>2.56</td>\n",
       "    </tr>\n",
       "    <tr>\n",
       "      <td>...</td>\n",
       "      <td>...</td>\n",
       "      <td>...</td>\n",
       "      <td>...</td>\n",
       "      <td>...</td>\n",
       "      <td>...</td>\n",
       "      <td>...</td>\n",
       "      <td>...</td>\n",
       "      <td>...</td>\n",
       "      <td>...</td>\n",
       "      <td>...</td>\n",
       "      <td>...</td>\n",
       "      <td>...</td>\n",
       "    </tr>\n",
       "    <tr>\n",
       "      <td>143</td>\n",
       "      <td>351</td>\n",
       "      <td>31.038356</td>\n",
       "      <td>0</td>\n",
       "      <td>Master</td>\n",
       "      <td>3</td>\n",
       "      <td>5.8</td>\n",
       "      <td>4.60</td>\n",
       "      <td>5.0</td>\n",
       "      <td>6.0</td>\n",
       "      <td>4.80</td>\n",
       "      <td>4.8</td>\n",
       "      <td>5.24</td>\n",
       "    </tr>\n",
       "    <tr>\n",
       "      <td>144</td>\n",
       "      <td>353</td>\n",
       "      <td>24.709590</td>\n",
       "      <td>1</td>\n",
       "      <td>BachDegree</td>\n",
       "      <td>0</td>\n",
       "      <td>4.0</td>\n",
       "      <td>3.20</td>\n",
       "      <td>1.2</td>\n",
       "      <td>4.4</td>\n",
       "      <td>2.40</td>\n",
       "      <td>5.0</td>\n",
       "      <td>3.04</td>\n",
       "    </tr>\n",
       "    <tr>\n",
       "      <td>145</td>\n",
       "      <td>355</td>\n",
       "      <td>27.084930</td>\n",
       "      <td>0</td>\n",
       "      <td>Master</td>\n",
       "      <td>2</td>\n",
       "      <td>4.6</td>\n",
       "      <td>3.20</td>\n",
       "      <td>2.8</td>\n",
       "      <td>4.8</td>\n",
       "      <td>1.00</td>\n",
       "      <td>4.6</td>\n",
       "      <td>3.28</td>\n",
       "    </tr>\n",
       "    <tr>\n",
       "      <td>146</td>\n",
       "      <td>356</td>\n",
       "      <td>22.191780</td>\n",
       "      <td>0</td>\n",
       "      <td>BachDegree</td>\n",
       "      <td>5</td>\n",
       "      <td>4.6</td>\n",
       "      <td>4.40</td>\n",
       "      <td>4.6</td>\n",
       "      <td>4.2</td>\n",
       "      <td>3.00</td>\n",
       "      <td>4.6</td>\n",
       "      <td>4.16</td>\n",
       "    </tr>\n",
       "    <tr>\n",
       "      <td>148</td>\n",
       "      <td>363</td>\n",
       "      <td>21.205480</td>\n",
       "      <td>1</td>\n",
       "      <td>HighSchoolGrad</td>\n",
       "      <td>2</td>\n",
       "      <td>4.6</td>\n",
       "      <td>4.80</td>\n",
       "      <td>3.4</td>\n",
       "      <td>4.4</td>\n",
       "      <td>2.80</td>\n",
       "      <td>4.4</td>\n",
       "      <td>4.00</td>\n",
       "    </tr>\n",
       "  </tbody>\n",
       "</table>\n",
       "<p>140 rows × 12 columns</p>\n",
       "</div>"
      ],
      "text/plain": [
       "      ID   AgeYears  GenderFactor         EducDeg  Income  JE_5D  DS_5D  \\\n",
       "0    101  23.279450             0      BachDegree       2    4.4   4.25   \n",
       "1    104  30.843840             0      BachDegree       1    3.2   2.50   \n",
       "2    105  31.268490             0          Master       6    3.0   3.00   \n",
       "3    106  25.994520             0      BachDegree       5    5.6   3.50   \n",
       "4    107  65.235620             0          Master       3    3.4   2.75   \n",
       "..   ...        ...           ...             ...     ...    ...    ...   \n",
       "143  351  31.038356             0          Master       3    5.8   4.60   \n",
       "144  353  24.709590             1      BachDegree       0    4.0   3.20   \n",
       "145  355  27.084930             0          Master       2    4.6   3.20   \n",
       "146  356  22.191780             0      BachDegree       5    4.6   4.40   \n",
       "148  363  21.205480             1  HighSchoolGrad       2    4.6   4.80   \n",
       "\n",
       "     ST_5D_R  SC_5D  TS_5D  LSMean  Avg_5D  \n",
       "0        4.4    2.8   2.00     4.0    3.57  \n",
       "1        3.6    4.0   0.00     6.0    2.66  \n",
       "2        3.0    2.4   1.00     6.0    2.48  \n",
       "3        4.6    5.2   1.25     5.6    4.03  \n",
       "4        3.5    2.4   0.75     3.6    2.56  \n",
       "..       ...    ...    ...     ...     ...  \n",
       "143      5.0    6.0   4.80     4.8    5.24  \n",
       "144      1.2    4.4   2.40     5.0    3.04  \n",
       "145      2.8    4.8   1.00     4.6    3.28  \n",
       "146      4.6    4.2   3.00     4.6    4.16  \n",
       "148      3.4    4.4   2.80     4.4    4.00  \n",
       "\n",
       "[140 rows x 12 columns]"
      ]
     },
     "metadata": {
      "tags": []
     },
     "output_type": "display_data"
    }
   ],
   "source": [
    "dfIncome = cleandf['Income']\n",
    "\n",
    "# display(dfIncome) # making sure we got the correct column\n",
    "dfIncome = dfIncome.replace(to_replace='PreferNotToAnswer', value=0)\n",
    "dfIncome = dfIncome.replace(to_replace='under20k', value=1)\n",
    "dfIncome = dfIncome.replace(to_replace='20to49k', value=2)\n",
    "dfIncome = dfIncome.replace(to_replace='50to74k', value=3)\n",
    "dfIncome = dfIncome.replace(to_replace='75to99k', value=4)\n",
    "dfIncome = dfIncome.replace(to_replace='100to149k', value=5)\n",
    "dfIncome = dfIncome.replace(to_replace='150to199k', value=6)\n",
    "dfIncome = dfIncome.replace(to_replace='200andup', value=7)\n",
    "IncomeNumbs = dfIncome\n",
    "# display(dfIncome) # making sure all became numbers\n",
    "\n",
    "df['Income'] = IncomeNumbs\n",
    "# display(df) # checking to make sure we numerized Income\n",
    "\n",
    "# adding a column which displays average of the five curiosity scales\n",
    "df['Avg_5D'] = (df['JE_5D'] + df['DS_5D'] + df['ST_5D_R'] + df['SC_5D'] + df['TS_5D'])/5\n",
    "display(df)"
   ]
  },
  {
   "cell_type": "markdown",
   "metadata": {
    "colab_type": "text",
    "id": "dzxlYS2yty0b"
   },
   "source": [
    "#### Essay Portion:"
   ]
  },
  {
   "cell_type": "markdown",
   "metadata": {
    "colab_type": "text",
    "id": "IkBYiPMfty0c"
   },
   "source": [
    "This step of converting the Income data into numbers will allow us to work numerically. Using categories for things like Education and Gender makes sense, but Income is quantifiable data. Transforming this data will allow us to use mathematic tools on this data."
   ]
  },
  {
   "cell_type": "markdown",
   "metadata": {
    "colab_type": "text",
    "id": "pEHWZg83nEh7"
   },
   "source": [
    "JCA:\n",
    "\n",
    "+2 mapping income to numeric values\n",
    "\n",
    "+1 correct calculation\n",
    "\n",
    "+0.5 working code\n",
    "\n",
    "+0.5 commented code\n",
    "\n",
    "+1 essay question correct\n"
   ]
  },
  {
   "cell_type": "markdown",
   "metadata": {
    "colab_type": "text",
    "id": "3ScH32-oty0c"
   },
   "source": [
    "## 4  Data Analysis"
   ]
  },
  {
   "cell_type": "markdown",
   "metadata": {
    "colab_type": "text",
    "id": "JleJKRFtty0d"
   },
   "source": [
    "### Q6  The Histogram"
   ]
  },
  {
   "cell_type": "markdown",
   "metadata": {
    "colab_type": "text",
    "id": "3QxnAbmhty0d"
   },
   "source": [
    "#### Data Science Portion:"
   ]
  },
  {
   "cell_type": "code",
   "execution_count": 0,
   "metadata": {
    "colab": {},
    "colab_type": "code",
    "id": "XltV6ESRty0e",
    "outputId": "48c3db0c-eb82-4b1e-be17-e18349cfe831"
   },
   "outputs": [
    {
     "data": {
      "image/png": "[encoded data removed]",
      "text/plain": [
       "<Figure size 432x288 with 1 Axes>"
      ]
     },
     "metadata": {
      "needs_background": "light",
      "tags": []
     },
     "output_type": "display_data"
    },
    {
     "data": {
      "image/png": "[encoded data removed]",
      "text/plain": [
       "<Figure size 432x288 with 1 Axes>"
      ]
     },
     "metadata": {
      "needs_background": "light",
      "tags": []
     },
     "output_type": "display_data"
    },
    {
     "data": {
      "image/png": "[encoded data removed]",
      "text/plain": [
       "<Figure size 432x288 with 1 Axes>"
      ]
     },
     "metadata": {
      "needs_background": "light",
      "tags": []
     },
     "output_type": "display_data"
    },
    {
     "data": {
      "image/png": "[encoded data removed]",
      "text/plain": [
       "<Figure size 432x288 with 1 Axes>"
      ]
     },
     "metadata": {
      "needs_background": "light",
      "tags": []
     },
     "output_type": "display_data"
    },
    {
     "data": {
      "image/png": "[encoded data removed]",
      "text/plain": [
       "<Figure size 432x288 with 1 Axes>"
      ]
     },
     "metadata": {
      "needs_background": "light",
      "tags": []
     },
     "output_type": "display_data"
    },
    {
     "data": {
      "image/png": "[encoded data removed]",
      "text/plain": [
       "<Figure size 432x288 with 1 Axes>"
      ]
     },
     "metadata": {
      "needs_background": "light",
      "tags": []
     },
     "output_type": "display_data"
    },
    {
     "data": {
      "image/png": "[encoded data removed]",
      "text/plain": [
       "<Figure size 432x288 with 1 Axes>"
      ]
     },
     "metadata": {
      "needs_background": "light",
      "tags": []
     },
     "output_type": "display_data"
    },
    {
     "data": {
      "image/png": "[encoded data removed]",
      "text/plain": [
       "<Figure size 432x288 with 1 Axes>"
      ]
     },
     "metadata": {
      "needs_background": "light",
      "tags": []
     },
     "output_type": "display_data"
    },
    {
     "data": {
      "image/png": "[encoded data removed]",
      "text/plain": [
       "<Figure size 432x288 with 1 Axes>"
      ]
     },
     "metadata": {
      "needs_background": "light",
      "tags": []
     },
     "output_type": "display_data"
    },
    {
     "data": {
      "image/png": "[encoded data removed]",
      "text/plain": [
       "<Figure size 432x288 with 1 Axes>"
      ]
     },
     "metadata": {
      "needs_background": "light",
      "tags": []
     },
     "output_type": "display_data"
    }
   ],
   "source": [
    "ax = df.hist(['JE_5D'], grid = False, color='Orange')\n",
    "ax = ax[0]\n",
    "for x in ax:\n",
    "    x.set_xlabel(\"Joyous Exploration\")\n",
    "    x.set_ylabel(\"Frequency\")\n",
    "    x.set_title(\"Joyous Exploration Distribution (Sturges Rule)\")\n",
    "    \n",
    "ax = df.hist(['DS_5D'], grid = False, color='Purple')\n",
    "ax = ax[0]\n",
    "for x in ax:\n",
    "    x.set_xlabel(\"Deprivation Sensitivity\")\n",
    "    x.set_ylabel(\"Frequency\")\n",
    "    x.set_title(\"Deprivation Sensitivity Distribution (Sturges Rule)\")\n",
    "    \n",
    "ax = df.hist(['ST_5D_R'], grid = False, color='DarkGreen')\n",
    "ax = ax[0]\n",
    "for x in ax:\n",
    "    x.set_xlabel(\"Stress Tolerance\")\n",
    "    x.set_ylabel(\"Frequency\")\n",
    "    x.set_title(\"Stress Tolerance Distribution (Sturges Rule)\")\n",
    "    \n",
    "ax = df.hist(['SC_5D'], grid = False, color='DarkRed')\n",
    "ax = ax[0]\n",
    "for x in ax:\n",
    "    x.set_xlabel(\"Social Curiosity\")\n",
    "    x.set_ylabel(\"Frequency\")\n",
    "    x.set_title(\"Social Curiosity Distribution (Sturges Rule)\")\n",
    "    \n",
    "ax = df.hist(['TS_5D'], grid = False, color='Yellow')\n",
    "ax = ax[0]\n",
    "for x in ax:\n",
    "    x.set_xlabel(\"Thrill Seeking\")\n",
    "    x.set_ylabel(\"Frequency\")\n",
    "    x.set_title(\"Thrill Seeking Distribution (Sturges Rule)\")\n",
    "    \n",
    "ax = df.hist(['Avg_5D'], grid = False, color='Pink')\n",
    "ax = ax[0]\n",
    "for x in ax:\n",
    "    x.set_xlabel(\"Average of 5 Curiosity Scales\")\n",
    "    x.set_ylabel(\"Frequency\")\n",
    "    x.set_title(\"Average of 5 Curiosity Scales Distribution (Sturges Rule)\")\n",
    "    \n",
    "# 5 intervals Joyous Exploration\n",
    "ax = df.hist(['JE_5D'], grid = False, bins = 5, color='Orange')\n",
    "ax = ax[0]\n",
    "for x in ax:\n",
    "    x.set_xlabel(\"Joyous Exploration\")\n",
    "    x.set_ylabel(\"Frequency\")\n",
    "    x.set_title(\"Joyous Exploration Distribution (5 Intervals)\")\n",
    "    \n",
    "# 10 intervals Joyous Exploration\n",
    "ax = df.hist(['JE_5D'], grid = False, bins = 10, color='Orange')\n",
    "ax = ax[0]\n",
    "for x in ax:\n",
    "    x.set_xlabel(\"Joyous Exploration\")\n",
    "    x.set_ylabel(\"Frequency\")\n",
    "    x.set_title(\"Joyous Exploration Distribution (10 Intervals)\")\n",
    "    \n",
    "# 20 intervals Joyous Exploration\n",
    "ax = df.hist(['JE_5D'], grid = False, bins = 20, color='Orange')\n",
    "ax = ax[0]\n",
    "for x in ax:\n",
    "    x.set_xlabel(\"Joyous Exploration\")\n",
    "    x.set_ylabel(\"Frequency\")\n",
    "    x.set_title(\"Joyous Exploration Distribution (20 Intervals)\")\n",
    "    \n",
    "# 50 intervals Joyous Exploration\n",
    "ax = df.hist(['JE_5D'], grid = False, bins = 50, color='Orange')\n",
    "ax = ax[0]\n",
    "for x in ax:\n",
    "    x.set_xlabel(\"Joyous Exploration\")\n",
    "    x.set_ylabel(\"Frequency\")\n",
    "    x.set_title(\"Joyous Exploration Distribution (50 Intervals)\")\n",
    "    \n"
   ]
  },
  {
   "cell_type": "markdown",
   "metadata": {
    "colab_type": "text",
    "id": "WLXrSHNHty0f"
   },
   "source": [
    "#### Essay Portion:"
   ]
  },
  {
   "cell_type": "markdown",
   "metadata": {
    "colab_type": "text",
    "id": "lFoWpbyity0f"
   },
   "source": [
    "The histogram for Joyous Exploration is unimodal with a left skew. The histogram for Deprivation Sensitivity is unimodal with no evident skew. The histogram for Stress Tolerance is unimodal with a strong left skew. The histogram for Social Curiosity is unimodal with a strong left skew. The histogram for Thrill Seeking is bimodal. The histogram for the Average of 5 Curiosity Scales is unimodal with a very slight left skew.\n",
    "\n",
    "The shapes of these histograms may change with varying the number of intervals because the distinctness and determinability of the data will be directly affected, as well as the cleanliness of the intervals.\n",
    "\n",
    "My preferred number of intervals is 10 intervals."
   ]
  },
  {
   "cell_type": "markdown",
   "metadata": {
    "colab_type": "text",
    "id": "lFzoXaRenXFi"
   },
   "source": [
    "JCA: \n",
    "\n",
    "+1 clearly labeled axes, title/legend (+0.5 each)\n",
    "\n",
    "+2 histograms plotted\n",
    "\n",
    "+1.5 draw histograms of favorite measure with different bins\n",
    "\n",
    "+0.5 working code\n",
    "\n",
    "+0 code not commented\n",
    "\n",
    "+2.5  essay portion (+1 describe the shape of histograms - modality, skew, range, etc., +1 describe the change with different intervals, +0.5 prefered number of intervals)\n"
   ]
  },
  {
   "cell_type": "markdown",
   "metadata": {
    "colab_type": "text",
    "id": "0G0Mr6bdty0g"
   },
   "source": [
    "### Q7  The Box Plot"
   ]
  },
  {
   "cell_type": "markdown",
   "metadata": {
    "colab_type": "text",
    "id": "tkJtlRJGty0g"
   },
   "source": [
    "#### Data Science Portion:"
   ]
  },
  {
   "cell_type": "code",
   "execution_count": 0,
   "metadata": {
    "colab": {},
    "colab_type": "code",
    "id": "vuiRxUs3ty0g",
    "outputId": "3d83192c-ce30-493c-b3d8-98569971de1e"
   },
   "outputs": [
    {
     "data": {
      "image/png": "[encoded data removed]",
      "text/plain": [
       "<Figure size 432x288 with 1 Axes>"
      ]
     },
     "metadata": {
      "needs_background": "light",
      "tags": []
     },
     "output_type": "display_data"
    }
   ],
   "source": [
    "dataBoxPlot = df[df[\"Income\"].isin([1,7])]\n",
    "counts = [\"JE_5D\",\"DS_5D\",\"ST_5D_R\",\"TS_5D\",\"SC_5D\",\"Avg_5D\",]\n",
    "newData=pd.melt(dataBoxPlot, id_vars = [\"Income\"], value_vars = counts, var_name = 'Curiosity Measure', value_name = 'Score')\n",
    "sns.boxplot(x = \"Curiosity Measure\", y = \"Score\", hue = 'Income', data = newData, palette ='Spectral')\n",
    "sns.despine(offset = 10, trim = True)"
   ]
  },
  {
   "cell_type": "markdown",
   "metadata": {
    "colab_type": "text",
    "id": "dmq_A14fty0i"
   },
   "source": [
    "#### Essay Portion:"
   ]
  },
  {
   "cell_type": "markdown",
   "metadata": {
    "colab_type": "text",
    "id": "CbHdHF1nty0i"
   },
   "source": [
    "The box itself refers to the interquartile range. The line in the middle of the box refers to the median of the data. The whiskers refer to the \"maximum\" and \"minimum.\" Any data points not included in the box are outliers of the data."
   ]
  },
  {
   "cell_type": "markdown",
   "metadata": {
    "colab_type": "text",
    "id": "hUNj-sh4nbQC"
   },
   "source": [
    "JCA:\n",
    "\n",
    "+1 clearly labeled axes, title/legend (+0.5 each)\n",
    "\n",
    "+1 correctly stratified\n",
    "\n",
    "+2 boxplots plotted\n",
    "\n",
    "+0.5 working code\n",
    "\n",
    "+0.5 commented code\n",
    "\n",
    "+3 essay (+1 box, +1 line/whiskers, +1 outliers)\n"
   ]
  },
  {
   "cell_type": "markdown",
   "metadata": {
    "colab_type": "text",
    "id": "O35Xkdy3ty0i"
   },
   "source": [
    "### Q8  Mean and Variance"
   ]
  },
  {
   "cell_type": "markdown",
   "metadata": {
    "colab_type": "text",
    "id": "AtoPmzjity0i"
   },
   "source": [
    "#### Data Science Portion:"
   ]
  },
  {
   "cell_type": "code",
   "execution_count": 0,
   "metadata": {
    "colab": {},
    "colab_type": "code",
    "id": "GqfCZFrPty0j",
    "outputId": "8053994b-5703-4a1a-8d54-4791622fbd2f"
   },
   "outputs": [
    {
     "data": {
      "text/html": [
       "<div>\n",
       "<style scoped>\n",
       "    .dataframe tbody tr th:only-of-type {\n",
       "        vertical-align: middle;\n",
       "    }\n",
       "\n",
       "    .dataframe tbody tr th {\n",
       "        vertical-align: top;\n",
       "    }\n",
       "\n",
       "    .dataframe thead th {\n",
       "        text-align: right;\n",
       "    }\n",
       "</style>\n",
       "<table border=\"1\" class=\"dataframe\">\n",
       "  <thead>\n",
       "    <tr style=\"text-align: right;\">\n",
       "      <th></th>\n",
       "      <th>Overall Mean</th>\n",
       "      <th>Overall Median</th>\n",
       "      <th>Overall Sample Variance</th>\n",
       "      <th>Mean 1</th>\n",
       "      <th>Median 1</th>\n",
       "      <th>Variance 1</th>\n",
       "      <th>Mean 2</th>\n",
       "      <th>Median 2</th>\n",
       "      <th>Variance 2</th>\n",
       "      <th>Mean 3</th>\n",
       "      <th>...</th>\n",
       "      <th>Variance 4</th>\n",
       "      <th>Mean 5</th>\n",
       "      <th>Median 5</th>\n",
       "      <th>Variance 5</th>\n",
       "      <th>Mean 6</th>\n",
       "      <th>Median 6</th>\n",
       "      <th>Variance 6</th>\n",
       "      <th>Mean 7</th>\n",
       "      <th>Median 7</th>\n",
       "      <th>Variance 7</th>\n",
       "    </tr>\n",
       "  </thead>\n",
       "  <tbody>\n",
       "    <tr>\n",
       "      <td>Joyous Exploration</td>\n",
       "      <td>4.478571</td>\n",
       "      <td>4.60</td>\n",
       "      <td>1.099106</td>\n",
       "      <td>3.250</td>\n",
       "      <td>3.70</td>\n",
       "      <td>2.143333</td>\n",
       "      <td>4.430769</td>\n",
       "      <td>4.60</td>\n",
       "      <td>0.965344</td>\n",
       "      <td>4.561905</td>\n",
       "      <td>...</td>\n",
       "      <td>1.004103</td>\n",
       "      <td>4.347368</td>\n",
       "      <td>4.60</td>\n",
       "      <td>2.030409</td>\n",
       "      <td>4.466667</td>\n",
       "      <td>4.60</td>\n",
       "      <td>0.671515</td>\n",
       "      <td>4.911111</td>\n",
       "      <td>5.00</td>\n",
       "      <td>0.504575</td>\n",
       "    </tr>\n",
       "    <tr>\n",
       "      <td>Deprivation Sensitivity</td>\n",
       "      <td>3.558929</td>\n",
       "      <td>3.80</td>\n",
       "      <td>1.461017</td>\n",
       "      <td>3.475</td>\n",
       "      <td>3.40</td>\n",
       "      <td>0.769167</td>\n",
       "      <td>3.560256</td>\n",
       "      <td>3.80</td>\n",
       "      <td>1.597918</td>\n",
       "      <td>3.423810</td>\n",
       "      <td>...</td>\n",
       "      <td>1.482564</td>\n",
       "      <td>3.447368</td>\n",
       "      <td>3.60</td>\n",
       "      <td>1.589298</td>\n",
       "      <td>3.516667</td>\n",
       "      <td>3.50</td>\n",
       "      <td>1.065152</td>\n",
       "      <td>3.794444</td>\n",
       "      <td>4.00</td>\n",
       "      <td>1.228791</td>\n",
       "    </tr>\n",
       "    <tr>\n",
       "      <td>Stress Tolerance</td>\n",
       "      <td>3.915000</td>\n",
       "      <td>4.10</td>\n",
       "      <td>1.543011</td>\n",
       "      <td>3.100</td>\n",
       "      <td>3.10</td>\n",
       "      <td>0.226667</td>\n",
       "      <td>3.897436</td>\n",
       "      <td>3.80</td>\n",
       "      <td>1.633414</td>\n",
       "      <td>4.242857</td>\n",
       "      <td>...</td>\n",
       "      <td>0.692308</td>\n",
       "      <td>4.063158</td>\n",
       "      <td>4.40</td>\n",
       "      <td>1.506901</td>\n",
       "      <td>3.850000</td>\n",
       "      <td>3.80</td>\n",
       "      <td>1.579091</td>\n",
       "      <td>3.655556</td>\n",
       "      <td>3.90</td>\n",
       "      <td>1.627320</td>\n",
       "    </tr>\n",
       "    <tr>\n",
       "      <td>Social Curiosity</td>\n",
       "      <td>4.291429</td>\n",
       "      <td>4.40</td>\n",
       "      <td>1.496617</td>\n",
       "      <td>3.750</td>\n",
       "      <td>4.10</td>\n",
       "      <td>0.836667</td>\n",
       "      <td>4.353846</td>\n",
       "      <td>4.60</td>\n",
       "      <td>1.575709</td>\n",
       "      <td>4.285714</td>\n",
       "      <td>...</td>\n",
       "      <td>0.836923</td>\n",
       "      <td>4.115789</td>\n",
       "      <td>4.20</td>\n",
       "      <td>1.516959</td>\n",
       "      <td>4.150000</td>\n",
       "      <td>3.90</td>\n",
       "      <td>1.717273</td>\n",
       "      <td>4.644444</td>\n",
       "      <td>4.70</td>\n",
       "      <td>0.863791</td>\n",
       "    </tr>\n",
       "    <tr>\n",
       "      <td>Thrill Seeking</td>\n",
       "      <td>2.748571</td>\n",
       "      <td>2.80</td>\n",
       "      <td>1.779063</td>\n",
       "      <td>1.100</td>\n",
       "      <td>0.80</td>\n",
       "      <td>1.666667</td>\n",
       "      <td>2.666667</td>\n",
       "      <td>2.40</td>\n",
       "      <td>1.870175</td>\n",
       "      <td>2.850000</td>\n",
       "      <td>...</td>\n",
       "      <td>0.626667</td>\n",
       "      <td>2.897368</td>\n",
       "      <td>3.00</td>\n",
       "      <td>2.450132</td>\n",
       "      <td>3.041667</td>\n",
       "      <td>3.30</td>\n",
       "      <td>1.908106</td>\n",
       "      <td>2.822222</td>\n",
       "      <td>3.10</td>\n",
       "      <td>1.632418</td>\n",
       "    </tr>\n",
       "    <tr>\n",
       "      <td>Average of 5 Measures</td>\n",
       "      <td>3.798500</td>\n",
       "      <td>3.82</td>\n",
       "      <td>0.558809</td>\n",
       "      <td>2.935</td>\n",
       "      <td>2.99</td>\n",
       "      <td>0.256900</td>\n",
       "      <td>3.781795</td>\n",
       "      <td>3.72</td>\n",
       "      <td>0.505726</td>\n",
       "      <td>3.872857</td>\n",
       "      <td>...</td>\n",
       "      <td>0.413456</td>\n",
       "      <td>3.774211</td>\n",
       "      <td>3.96</td>\n",
       "      <td>0.905348</td>\n",
       "      <td>3.805000</td>\n",
       "      <td>4.02</td>\n",
       "      <td>0.590845</td>\n",
       "      <td>3.965556</td>\n",
       "      <td>4.04</td>\n",
       "      <td>0.242814</td>\n",
       "    </tr>\n",
       "  </tbody>\n",
       "</table>\n",
       "<p>6 rows × 24 columns</p>\n",
       "</div>"
      ],
      "text/plain": [
       "                         Overall Mean  Overall Median  \\\n",
       "Joyous Exploration           4.478571            4.60   \n",
       "Deprivation Sensitivity      3.558929            3.80   \n",
       "Stress Tolerance             3.915000            4.10   \n",
       "Social Curiosity             4.291429            4.40   \n",
       "Thrill Seeking               2.748571            2.80   \n",
       "Average of 5 Measures        3.798500            3.82   \n",
       "\n",
       "                         Overall Sample Variance  Mean 1  Median 1  \\\n",
       "Joyous Exploration                      1.099106   3.250      3.70   \n",
       "Deprivation Sensitivity                 1.461017   3.475      3.40   \n",
       "Stress Tolerance                        1.543011   3.100      3.10   \n",
       "Social Curiosity                        1.496617   3.750      4.10   \n",
       "Thrill Seeking                          1.779063   1.100      0.80   \n",
       "Average of 5 Measures                   0.558809   2.935      2.99   \n",
       "\n",
       "                         Variance 1    Mean 2  Median 2  Variance 2    Mean 3  \\\n",
       "Joyous Exploration         2.143333  4.430769      4.60    0.965344  4.561905   \n",
       "Deprivation Sensitivity    0.769167  3.560256      3.80    1.597918  3.423810   \n",
       "Stress Tolerance           0.226667  3.897436      3.80    1.633414  4.242857   \n",
       "Social Curiosity           0.836667  4.353846      4.60    1.575709  4.285714   \n",
       "Thrill Seeking             1.666667  2.666667      2.40    1.870175  2.850000   \n",
       "Average of 5 Measures      0.256900  3.781795      3.72    0.505726  3.872857   \n",
       "\n",
       "                         ...  Variance 4    Mean 5  Median 5  Variance 5  \\\n",
       "Joyous Exploration       ...    1.004103  4.347368      4.60    2.030409   \n",
       "Deprivation Sensitivity  ...    1.482564  3.447368      3.60    1.589298   \n",
       "Stress Tolerance         ...    0.692308  4.063158      4.40    1.506901   \n",
       "Social Curiosity         ...    0.836923  4.115789      4.20    1.516959   \n",
       "Thrill Seeking           ...    0.626667  2.897368      3.00    2.450132   \n",
       "Average of 5 Measures    ...    0.413456  3.774211      3.96    0.905348   \n",
       "\n",
       "                           Mean 6  Median 6  Variance 6    Mean 7  Median 7  \\\n",
       "Joyous Exploration       4.466667      4.60    0.671515  4.911111      5.00   \n",
       "Deprivation Sensitivity  3.516667      3.50    1.065152  3.794444      4.00   \n",
       "Stress Tolerance         3.850000      3.80    1.579091  3.655556      3.90   \n",
       "Social Curiosity         4.150000      3.90    1.717273  4.644444      4.70   \n",
       "Thrill Seeking           3.041667      3.30    1.908106  2.822222      3.10   \n",
       "Average of 5 Measures    3.805000      4.02    0.590845  3.965556      4.04   \n",
       "\n",
       "                         Variance 7  \n",
       "Joyous Exploration         0.504575  \n",
       "Deprivation Sensitivity    1.228791  \n",
       "Stress Tolerance           1.627320  \n",
       "Social Curiosity           0.863791  \n",
       "Thrill Seeking             1.632418  \n",
       "Average of 5 Measures      0.242814  \n",
       "\n",
       "[6 rows x 24 columns]"
      ]
     },
     "metadata": {
      "tags": []
     },
     "output_type": "display_data"
    }
   ],
   "source": [
    "# calculating mean, median, and sample variance for each Curiosity Measure\n",
    "JEmean = df['JE_5D'].mean()\n",
    "JEmedian = df['JE_5D'].median()\n",
    "JEvariance = df['JE_5D'].var()\n",
    "DSmean = df['DS_5D'].mean()\n",
    "DSmedian = df['DS_5D'].median()\n",
    "DSvariance = df['DS_5D'].var()\n",
    "STmean = df['ST_5D_R'].mean()\n",
    "STmedian = df['ST_5D_R'].median()\n",
    "STvariance = df['ST_5D_R'].var()\n",
    "SCmean = df['SC_5D'].mean()\n",
    "SCmedian = df['SC_5D'].median()\n",
    "SCvariance = df['SC_5D'].var()\n",
    "TSmean = df['TS_5D'].mean()\n",
    "TSmedian = df['TS_5D'].median()\n",
    "TSvariance = df['TS_5D'].var()\n",
    "Avg_5Dmean = df['Avg_5D'].mean()\n",
    "Avg_5Dmedian = df['Avg_5D'].median()\n",
    "Avg_5Dvariance = df['Avg_5D'].var()\n",
    "\n",
    "# creating data sets with specific Incomes\n",
    "dfIncome1 = df.loc[(df['Income']==1)]\n",
    "dfIncome2 = df.loc[(df['Income']==2)]\n",
    "dfIncome3 = df.loc[(df['Income']==3)]\n",
    "dfIncome4 = df.loc[(df['Income']==4)]\n",
    "dfIncome5 = df.loc[(df['Income']==5)]\n",
    "dfIncome6 = df.loc[(df['Income']==6)]\n",
    "dfIncome7 = df.loc[(df['Income']==7)]\n",
    "\n",
    "JEmean1 = dfIncome1['JE_5D'].mean()\n",
    "JEmedian1 = dfIncome1['JE_5D'].median()\n",
    "JEvariance1 = dfIncome1['JE_5D'].var()\n",
    "DSmean1 = dfIncome1['DS_5D'].mean()\n",
    "DSmedian1 = dfIncome1['DS_5D'].median()\n",
    "DSvariance1 = dfIncome1['DS_5D'].var()\n",
    "STmean1 = dfIncome1['ST_5D_R'].mean()\n",
    "STmedian1 = dfIncome1['ST_5D_R'].median()\n",
    "STvariance1 = dfIncome1['ST_5D_R'].var()\n",
    "SCmean1 = dfIncome1['SC_5D'].mean()\n",
    "SCmedian1 = dfIncome1['SC_5D'].median()\n",
    "SCvariance1 = dfIncome1['SC_5D'].var()\n",
    "TSmean1 = dfIncome1['TS_5D'].mean()\n",
    "TSmedian1 = dfIncome1['TS_5D'].median()\n",
    "TSvariance1 = dfIncome1['TS_5D'].var()\n",
    "Avg_5Dmean1 = dfIncome1['Avg_5D'].mean()\n",
    "Avg_5Dmedian1 = dfIncome1['Avg_5D'].median()\n",
    "Avg_5Dvariance1 = dfIncome1['Avg_5D'].var()\n",
    "\n",
    "JEmean2 = dfIncome2['JE_5D'].mean()\n",
    "JEmedian2 = dfIncome2['JE_5D'].median()\n",
    "JEvariance2 = dfIncome2['JE_5D'].var()\n",
    "DSmean2 = dfIncome2['DS_5D'].mean()\n",
    "DSmedian2 = dfIncome2['DS_5D'].median()\n",
    "DSvariance2 = dfIncome2['DS_5D'].var()\n",
    "STmean2 = dfIncome2['ST_5D_R'].mean()\n",
    "STmedian2 = dfIncome2['ST_5D_R'].median()\n",
    "STvariance2 = dfIncome2['ST_5D_R'].var()\n",
    "SCmean2 = dfIncome2['SC_5D'].mean()\n",
    "SCmedian2 = dfIncome2['SC_5D'].median()\n",
    "SCvariance2 = dfIncome2['SC_5D'].var()\n",
    "TSmean2 = dfIncome2['TS_5D'].mean()\n",
    "TSmedian2 = dfIncome2['TS_5D'].median()\n",
    "TSvariance2 = dfIncome2['TS_5D'].var()\n",
    "Avg_5Dmean2 = dfIncome2['Avg_5D'].mean()\n",
    "Avg_5Dmedian2 = dfIncome2['Avg_5D'].median()\n",
    "Avg_5Dvariance2 = dfIncome2['Avg_5D'].var()\n",
    "\n",
    "JEmean3 = dfIncome3['JE_5D'].mean()\n",
    "JEmedian3 = dfIncome3['JE_5D'].median()\n",
    "JEvariance3 = dfIncome3['JE_5D'].var()\n",
    "DSmean3 = dfIncome3['DS_5D'].mean()\n",
    "DSmedian3 = dfIncome3['DS_5D'].median()\n",
    "DSvariance3 = dfIncome3['DS_5D'].var()\n",
    "STmean3 = dfIncome3['ST_5D_R'].mean()\n",
    "STmedian3 = dfIncome3['ST_5D_R'].median()\n",
    "STvariance3 = dfIncome3['ST_5D_R'].var()\n",
    "SCmean3 = dfIncome3['SC_5D'].mean()\n",
    "SCmedian3 = dfIncome3['SC_5D'].median()\n",
    "SCvariance3 = dfIncome3['SC_5D'].var()\n",
    "TSmean3 = dfIncome3['TS_5D'].mean()\n",
    "TSmedian3 = dfIncome3['TS_5D'].median()\n",
    "TSvariance3 = dfIncome3['TS_5D'].var()\n",
    "Avg_5Dmean3 = dfIncome3['Avg_5D'].mean()\n",
    "Avg_5Dmedian3 = dfIncome3['Avg_5D'].median()\n",
    "Avg_5Dvariance3 = dfIncome3['Avg_5D'].var()\n",
    "\n",
    "JEmean4 = dfIncome4['JE_5D'].mean()\n",
    "JEmedian4 = dfIncome4['JE_5D'].median()\n",
    "JEvariance4 = dfIncome4['JE_5D'].var()\n",
    "DSmean4 = dfIncome4['DS_5D'].mean()\n",
    "DSmedian4 = dfIncome4['DS_5D'].median()\n",
    "DSvariance4 = dfIncome4['DS_5D'].var()\n",
    "STmean4 = dfIncome4['ST_5D_R'].mean()\n",
    "STmedian4 = dfIncome4['ST_5D_R'].median()\n",
    "STvariance4 = dfIncome4['ST_5D_R'].var()\n",
    "SCmean4 = dfIncome4['SC_5D'].mean()\n",
    "SCmedian4 = dfIncome4['SC_5D'].median()\n",
    "SCvariance4 = dfIncome4['SC_5D'].var()\n",
    "TSmean4 = dfIncome4['TS_5D'].mean()\n",
    "TSmedian4 = dfIncome4['TS_5D'].median()\n",
    "TSvariance4 = dfIncome4['TS_5D'].var()\n",
    "Avg_5Dmean4 = dfIncome4['Avg_5D'].mean()\n",
    "Avg_5Dmedian4 = dfIncome4['Avg_5D'].median()\n",
    "Avg_5Dvariance4 = dfIncome4['Avg_5D'].var()\n",
    "\n",
    "JEmean5 = dfIncome5['JE_5D'].mean()\n",
    "JEmedian5 = dfIncome5['JE_5D'].median()\n",
    "JEvariance5 = dfIncome5['JE_5D'].var()\n",
    "DSmean5 = dfIncome5['DS_5D'].mean()\n",
    "DSmedian5 = dfIncome5['DS_5D'].median()\n",
    "DSvariance5 = dfIncome5['DS_5D'].var()\n",
    "STmean5 = dfIncome5['ST_5D_R'].mean()\n",
    "STmedian5 = dfIncome5['ST_5D_R'].median()\n",
    "STvariance5 = dfIncome5['ST_5D_R'].var()\n",
    "SCmean5 = dfIncome5['SC_5D'].mean()\n",
    "SCmedian5 = dfIncome5['SC_5D'].median()\n",
    "SCvariance5 = dfIncome5['SC_5D'].var()\n",
    "TSmean5 = dfIncome5['TS_5D'].mean()\n",
    "TSmedian5 = dfIncome5['TS_5D'].median()\n",
    "TSvariance5 = dfIncome5['TS_5D'].var()\n",
    "Avg_5Dmean5 = dfIncome5['Avg_5D'].mean()\n",
    "Avg_5Dmedian5 = dfIncome5['Avg_5D'].median()\n",
    "Avg_5Dvariance5 = dfIncome5['Avg_5D'].var()\n",
    "\n",
    "JEmean6 = dfIncome6['JE_5D'].mean()\n",
    "JEmedian6 = dfIncome6['JE_5D'].median()\n",
    "JEvariance6 = dfIncome6['JE_5D'].var()\n",
    "DSmean6 = dfIncome6['DS_5D'].mean()\n",
    "DSmedian6 = dfIncome6['DS_5D'].median()\n",
    "DSvariance6 = dfIncome6['DS_5D'].var()\n",
    "STmean6 = dfIncome6['ST_5D_R'].mean()\n",
    "STmedian6 = dfIncome6['ST_5D_R'].median()\n",
    "STvariance6 = dfIncome6['ST_5D_R'].var()\n",
    "SCmean6 = dfIncome6['SC_5D'].mean()\n",
    "SCmedian6 = dfIncome6['SC_5D'].median()\n",
    "SCvariance6 = dfIncome6['SC_5D'].var()\n",
    "TSmean6 = dfIncome6['TS_5D'].mean()\n",
    "TSmedian6 = dfIncome6['TS_5D'].median()\n",
    "TSvariance6 = dfIncome6['TS_5D'].var()\n",
    "Avg_5Dmean6 = dfIncome6['Avg_5D'].mean()\n",
    "Avg_5Dmedian6 = dfIncome6['Avg_5D'].median()\n",
    "Avg_5Dvariance6 = dfIncome6['Avg_5D'].var()\n",
    "\n",
    "JEmean7 = dfIncome7['JE_5D'].mean()\n",
    "JEmedian7 = dfIncome7['JE_5D'].median()\n",
    "JEvariance7 = dfIncome7['JE_5D'].var()\n",
    "DSmean7 = dfIncome7['DS_5D'].mean()\n",
    "DSmedian7 = dfIncome7['DS_5D'].median()\n",
    "DSvariance7 = dfIncome7['DS_5D'].var()\n",
    "STmean7 = dfIncome7['ST_5D_R'].mean()\n",
    "STmedian7 = dfIncome7['ST_5D_R'].median()\n",
    "STvariance7 = dfIncome7['ST_5D_R'].var()\n",
    "SCmean7 = dfIncome7['SC_5D'].mean()\n",
    "SCmedian7 = dfIncome7['SC_5D'].median()\n",
    "SCvariance7 = dfIncome7['SC_5D'].var()\n",
    "TSmean7 = dfIncome7['TS_5D'].mean()\n",
    "TSmedian7 = dfIncome7['TS_5D'].median()\n",
    "TSvariance7 = dfIncome7['TS_5D'].var()\n",
    "Avg_5Dmean7 = dfIncome7['Avg_5D'].mean()\n",
    "Avg_5Dmedian7 = dfIncome7['Avg_5D'].median()\n",
    "Avg_5Dvariance7 = dfIncome7['Avg_5D'].var()\n",
    "\n",
    "\n",
    "# List of tuples\n",
    "computed = [ (JEmean, JEmedian, JEvariance, JEmean1, JEmedian1, JEvariance1, JEmean2, JEmedian2, JEvariance2, JEmean3, JEmedian3, JEvariance3, JEmean4, JEmedian4, JEvariance4, JEmean5, JEmedian5, JEvariance5, JEmean6, JEmedian6, JEvariance6, JEmean7, JEmedian7, JEvariance7) ,\n",
    "(DSmean, DSmedian, DSvariance, DSmean1, DSmedian1, DSvariance1, DSmean2, DSmedian2, DSvariance2, DSmean3, DSmedian3, DSvariance3, DSmean4, DSmedian4, DSvariance4, DSmean5, DSmedian5, DSvariance5, DSmean6, DSmedian6, DSvariance6, DSmean7, DSmedian7, DSvariance7) ,\n",
    "(STmean, STmedian, STvariance, STmean1, STmedian1, STvariance1, STmean2, STmedian2, STvariance2, STmean3, STmedian3, STvariance3, STmean4, STmedian4, STvariance4, STmean5, STmedian5, STvariance5, STmean6, STmedian6, STvariance6, STmean7, STmedian7, STvariance7) ,\n",
    "(SCmean, SCmedian, SCvariance, SCmean1, SCmedian1, SCvariance1, SCmean2, SCmedian2, SCvariance2, SCmean3, SCmedian3, SCvariance3, SCmean4, SCmedian4, SCvariance4, SCmean5, SCmedian5, SCvariance5, SCmean6, SCmedian6, SCvariance6, SCmean7, SCmedian7, SCvariance7) ,\n",
    "(TSmean, TSmedian, TSvariance, TSmean1, TSmedian1, TSvariance1, TSmean2, TSmedian2, TSvariance2, TSmean3, TSmedian3, TSvariance3, TSmean4, TSmedian4, TSvariance4, TSmean5, TSmedian5, TSvariance5, TSmean6, TSmedian6, TSvariance6, TSmean7, TSmedian7, TSvariance7),\n",
    "(Avg_5Dmean, Avg_5Dmedian, Avg_5Dvariance, Avg_5Dmean1, Avg_5Dmedian1, Avg_5Dvariance1, Avg_5Dmean2, Avg_5Dmedian2, Avg_5Dvariance2, Avg_5Dmean3, Avg_5Dmedian3, Avg_5Dvariance3, Avg_5Dmean4, Avg_5Dmedian4, Avg_5Dvariance4, Avg_5Dmean5, Avg_5Dmedian5, Avg_5Dvariance5, Avg_5Dmean6, Avg_5Dmedian6, Avg_5Dvariance6, Avg_5Dmean7, Avg_5Dmedian7, Avg_5Dvariance7) ]\n",
    "\n",
    "# creating table\n",
    "tableMeanMedianVariance = pd.DataFrame(computed, columns = ['Overall Mean', 'Overall Median', 'Overall Sample Variance', 'Mean 1', 'Median 1', 'Variance 1', 'Mean 2', 'Median 2', 'Variance 2', 'Mean 3', 'Median 3', 'Variance 3', 'Mean 4', 'Median 4', 'Variance 4', 'Mean 5', 'Median 5', 'Variance 5', 'Mean 6', 'Median 6', 'Variance 6', 'Mean 7', 'Median 7', 'Variance 7'], index=['Joyous Exploration', 'Deprivation Sensitivity', 'Stress Tolerance' , 'Social Curiosity', 'Thrill Seeking', 'Average of 5 Measures'])\n",
    "display(tableMeanMedianVariance)"
   ]
  },
  {
   "cell_type": "markdown",
   "metadata": {
    "colab_type": "text",
    "id": "hen91oKkty0k"
   },
   "source": [
    "#### Essay Portion:"
   ]
  },
  {
   "cell_type": "markdown",
   "metadata": {
    "colab_type": "text",
    "id": "IEQoG0u8ty0k"
   },
   "source": [
    "The table above shows the results of my calculations, which are the mean, median, and variance of scores of each of the 5 curiosity measures and the average of these measures as seen in 7 different income levels. Based on the frequency distribution histograms made in 4.1, we were able to see that many of the measures had skews. To complement this, the computed value best suited to show the central tendency of the data would be the median, which is not affected by skews in the data like the mean is."
   ]
  },
  {
   "cell_type": "markdown",
   "metadata": {
    "colab_type": "text",
    "id": "50FuOqg4n4sg"
   },
   "source": [
    "JCA:\n",
    "\n",
    "+3 compute mean/median/sample variance among all subjects (+1 for each measure)\n",
    "\n",
    "+3 compute mean/sample variance/coefficient of variation within groups (+1 for each measure)\n",
    "\n",
    "+1 print or draw the table clearly\n",
    "\n",
    "+0.5 working code\n",
    "\n",
    "+0.5 commented code\n",
    "\n",
    "+1 choice of central tendency measure and explanation\n"
   ]
  },
  {
   "cell_type": "markdown",
   "metadata": {
    "colab_type": "text",
    "id": "uUwP2Gr8ty0l"
   },
   "source": [
    "### Q9  Sampling and Errors"
   ]
  },
  {
   "cell_type": "markdown",
   "metadata": {
    "colab_type": "text",
    "id": "xXd9vda5ty0l"
   },
   "source": [
    "#### Data Science Portion:"
   ]
  },
  {
   "cell_type": "code",
   "execution_count": 0,
   "metadata": {
    "colab": {},
    "colab_type": "code",
    "id": "gfWHvNYaty0l",
    "outputId": "ec90b297-6df6-44d5-8a24-e17466f7638f"
   },
   "outputs": [
    {
     "name": "stdout",
     "output_type": "stream",
     "text": [
      "Standard Deviation of Random Sample of 100:  0.9968971862734893\n",
      "Standard Deviation of Random Sample of 10:  0.8811356308764275\n",
      "Standard Error of Mean of Random Sample of 100:  0.09968971862734893\n",
      "Standard Error of Mean of Random Sample of 10:  0.2786395521098898\n"
     ]
    },
    {
     "data": {
      "image/png": "[encoded data removed]",
      "text/plain": [
       "<Figure size 432x288 with 1 Axes>"
      ]
     },
     "metadata": {
      "needs_background": "light",
      "tags": []
     },
     "output_type": "display_data"
    },
    {
     "data": {
      "image/png": "[encoded data removed]",
      "text/plain": [
       "<Figure size 432x288 with 1 Axes>"
      ]
     },
     "metadata": {
      "needs_background": "light",
      "tags": []
     },
     "output_type": "display_data"
    },
    {
     "data": {
      "image/png": "[encoded data removed]",
      "text/plain": [
       "<Figure size 432x288 with 1 Axes>"
      ]
     },
     "metadata": {
      "needs_background": "light",
      "tags": []
     },
     "output_type": "display_data"
    },
    {
     "data": {
      "image/png": "[encoded data removed]",
      "text/plain": [
       "<Figure size 432x288 with 1 Axes>"
      ]
     },
     "metadata": {
      "needs_background": "light",
      "tags": []
     },
     "output_type": "display_data"
    }
   ],
   "source": [
    "# chose to randomly sample from Joyous Exploration\n",
    "JElist = df['JE_5D'].tolist()  \n",
    "# creating random samplings of different sizes\n",
    "random100 = random.sample(JElist, 100)\n",
    "random10 = random.sample(JElist, 10)\n",
    "# calculating standard deviations\n",
    "standardDeviation100 = np.std(random100)\n",
    "standardDeviation10 = np.std(random10)\n",
    "print('Standard Deviation of Random Sample of 100: ', standardDeviation100)\n",
    "print('Standard Deviation of Random Sample of 10: ', standardDeviation10)\n",
    "# calculating standard errors of mean\n",
    "SEm100 = (np.std(random100))/(np.sqrt(len(random100)))\n",
    "SEm10 = (np.std(random10))/(np.sqrt(len(random10)))\n",
    "print('Standard Error of Mean of Random Sample of 100: ', SEm100)\n",
    "print('Standard Error of Mean of Random Sample of 10: ', SEm10)\n",
    "\n",
    "pyplot.hist(random100, color = 'Orange')\n",
    "pyplot.xlabel('Joyous Exploration Score')\n",
    "pyplot.ylabel('Frequency')\n",
    "pyplot.title('Histogram for 100 Random Samples')\n",
    "pyplot.show()\n",
    "\n",
    "pyplot.hist(random10, color = 'DarkBlue')\n",
    "pyplot.xlabel('Joyous Exploration Score')\n",
    "pyplot.ylabel('Frequency')\n",
    "pyplot.title('Histogram for 10 Random Samples')\n",
    "pyplot.show()\n",
    "\n",
    "population100 = []\n",
    "\n",
    "for n in range(0,1000):\n",
    "    sample100 = np.random.choice(JElist, size=100)\n",
    "    res100 = np.mean(sample100)\n",
    "    res100 = population100.append(np.mean(sample100))\n",
    "    # want to obtain distribution of differences of sample means to use with test statistic\n",
    "    \n",
    "pyplot.figure()\n",
    "pyplot.hist(population100)\n",
    "pyplot.xlabel('Joyous Exploration Sample Means')\n",
    "pyplot.ylabel('Frequency')\n",
    "pyplot.title('Sampling Distribution of JE Scores With Sample of 100')\n",
    "pyplot.show()\n",
    "\n",
    "population10 = []\n",
    "for n in range(0,1000):\n",
    "    sample10 = np.random.choice(JElist, size=10)\n",
    "    res10 = np.mean(sample10)\n",
    "    res10 = population10.append(np.mean(sample10))\n",
    "    # want to obtain distribution of differences of sample means to use with test statistic\n",
    "    \n",
    "pyplot.figure()\n",
    "pyplot.hist(population10)\n",
    "pyplot.xlabel('Joyous Exploration Sample Means')\n",
    "pyplot.ylabel('Frequency')\n",
    "pyplot.title('Sampling Distribution of JE Scores With Sample of 10')\n",
    "pyplot.show()"
   ]
  },
  {
   "cell_type": "markdown",
   "metadata": {
    "colab_type": "text",
    "id": "kXdL6dNdty0m"
   },
   "source": [
    "#### Essay Portion:"
   ]
  },
  {
   "cell_type": "markdown",
   "metadata": {
    "colab_type": "text",
    "id": "_f_Eg2Kyty0n"
   },
   "source": [
    "We can distinctly see in our sampling distributions that the sampling distribution with a larger random sample has a signficantly more uniform, unimodal, symmetric, and normal-like shape. When we look at the standard deviation, we see that the average value from a smaller sample varies further from the sample mean, and there is also a larger standard error of the mean. With a smaller sample size, we are allowing for imprecise data. Having a sufficient amount of subjects to analyze data is important to obtain accurate conclusions."
   ]
  },
  {
   "cell_type": "markdown",
   "metadata": {
    "colab_type": "text",
    "id": "UZ3-6WsKoC4E"
   },
   "source": [
    "JCA:\n",
    "\n",
    "+0.5 clearly labeled axes/title/legend: (+0.5), appropriate x ranges for last two plots (must show relative variation accurately, +0.5)\n",
    "\n",
    "+4 histogram plotted (+1 each correct histogram)\n",
    "\n",
    "+2 SEM/SD calculation (+0.5 for each measure and each number of samples)\n",
    "\n",
    "+0.5 working code\n",
    "\n",
    "+0.5 commented code \n",
    "\n",
    "+1 essay portion \n"
   ]
  },
  {
   "cell_type": "markdown",
   "metadata": {
    "colab_type": "text",
    "id": "Oe-rx_BQty0n"
   },
   "source": [
    "### Q10  The Error Bar"
   ]
  },
  {
   "cell_type": "markdown",
   "metadata": {
    "colab_type": "text",
    "id": "zbCIknKity0n"
   },
   "source": [
    "#### Data Science Portion:"
   ]
  },
  {
   "cell_type": "code",
   "execution_count": 0,
   "metadata": {
    "colab": {},
    "colab_type": "code",
    "id": "q0wy0wyHty0o",
    "outputId": "ea773e15-b3fc-4b36-bfb9-26eb39d58706"
   },
   "outputs": [
    {
     "data": {
      "image/png": "[encoded data removed]",
      "text/plain": [
       "<Figure size 432x288 with 1 Axes>"
      ]
     },
     "metadata": {
      "needs_background": "light",
      "tags": []
     },
     "output_type": "display_data"
    },
    {
     "data": {
      "image/png": "[encoded data removed]",
      "text/plain": [
       "<Figure size 432x288 with 1 Axes>"
      ]
     },
     "metadata": {
      "needs_background": "light",
      "tags": []
     },
     "output_type": "display_data"
    },
    {
     "data": {
      "image/png": "[encoded data removed]",
      "text/plain": [
       "<Figure size 432x288 with 1 Axes>"
      ]
     },
     "metadata": {
      "needs_background": "light",
      "tags": []
     },
     "output_type": "display_data"
    },
    {
     "data": {
      "image/png": "[encoded data removed]",
      "text/plain": [
       "<Figure size 432x288 with 1 Axes>"
      ]
     },
     "metadata": {
      "needs_background": "light",
      "tags": []
     },
     "output_type": "display_data"
    },
    {
     "data": {
      "image/png": "[encoded data removed]",
      "text/plain": [
       "<Figure size 432x288 with 1 Axes>"
      ]
     },
     "metadata": {
      "needs_background": "light",
      "tags": []
     },
     "output_type": "display_data"
    },
    {
     "data": {
      "image/png": "[encoded data removed]",
      "text/plain": [
       "<Figure size 432x288 with 1 Axes>"
      ]
     },
     "metadata": {
      "needs_background": "light",
      "tags": []
     },
     "output_type": "display_data"
    }
   ],
   "source": [
    "# CURIOSITY MEASURE: JOYOUS EXPLORATION\n",
    "\n",
    "# display(df) # making sure that the original cleaned DataFrame was not affected\n",
    "\n",
    "# Specific Income Levels\n",
    "dfIncome1 = df.loc[(df['Income']==1)]\n",
    "# display(dfIncome1)\n",
    "JEincome1 = dfIncome1['JE_5D'].tolist()\n",
    "randomJEincome1 = random.sample(JEincome1, 4)\n",
    "meanJEincome1 = np.mean(randomJEincome1)\n",
    "errorJE1 = 2*((np.std(randomJEincome1))/(np.sqrt(len(randomJEincome1))))\n",
    "\n",
    "dfIncome2 = df.loc[(df['Income']==2)]\n",
    "# display(dfIncome2)\n",
    "JEincome2 = dfIncome1['JE_5D'].tolist()\n",
    "randomJEincome2 = random.sample(JEincome2, 4)\n",
    "meanJEincome2 = np.mean(randomJEincome2)\n",
    "errorJE2 = 2*((np.std(randomJEincome2))/(np.sqrt(len(randomJEincome2))))\n",
    "\n",
    "dfIncome3 = df.loc[(df['Income']==3)]\n",
    "# display(dfIncome3)\n",
    "JEincome3 = dfIncome3['JE_5D'].tolist()\n",
    "randomJEincome3 = random.sample(JEincome3, 4)\n",
    "meanJEincome3 = np.mean(randomJEincome3)\n",
    "errorJE3 = 2*((np.std(randomJEincome3))/(np.sqrt(len(randomJEincome3))))\n",
    "\n",
    "dfIncome4 = df.loc[(df['Income']==4)]\n",
    "# display(dfIncome4)\n",
    "JEincome4 = dfIncome4['JE_5D'].tolist()\n",
    "randomJEincome4 = random.sample(JEincome4, 4)\n",
    "meanJEincome4 = np.mean(randomJEincome4)\n",
    "errorJE4 = 2*((np.std(randomJEincome4))/(np.sqrt(len(randomJEincome4))))\n",
    "\n",
    "dfIncome5 = df.loc[(df['Income']==5)]\n",
    "# display(dfIncome5)\n",
    "JEincome5 = dfIncome5['JE_5D'].tolist()\n",
    "randomJEincome5 = random.sample(JEincome5, 4)\n",
    "meanJEincome5 = np.mean(randomJEincome5)\n",
    "errorJE5 = 2*((np.std(randomJEincome5))/(np.sqrt(len(randomJEincome5))))\n",
    "\n",
    "dfIncome6 = df.loc[(df['Income']==6)]\n",
    "# display(dfIncome6)\n",
    "JEincome6 = dfIncome6['JE_5D'].tolist()\n",
    "randomJEincome6 = random.sample(JEincome6, 4)\n",
    "meanJEincome6 = np.mean(randomJEincome6)\n",
    "errorJE6 = 2*((np.std(randomJEincome6))/(np.sqrt(len(randomJEincome6))))\n",
    "\n",
    "dfIncome7 = df.loc[(df['Income']==7)]\n",
    "# display(dfIncome7)\n",
    "JEincome7 = dfIncome7['JE_5D'].tolist()\n",
    "randomJEincome7 = random.sample(JEincome7, 4)\n",
    "meanJEincome7 = np.mean(randomJEincome7)\n",
    "errorJE7 = 2*((np.std(randomJEincome7))/(np.sqrt(len(randomJEincome7))))\n",
    "\n",
    "# gathering data for bar plot\n",
    "xJE = ['under20', '20to49k', '50to74k', '75to99k', '100to149k', '150to199k', '200andup']\n",
    "hJE = [meanJEincome1, meanJEincome2, meanJEincome3, meanJEincome4, meanJEincome5, meanJEincome6, meanJEincome7]\n",
    "errors = [errorJE1, errorJE2, errorJE3, errorJE4, errorJE5, errorJE6, errorJE7]\n",
    "\n",
    "pyplot.bar(xJE, hJE, width=0.8, yerr = errors, bottom=None, align='center', data=None)\n",
    "pyplot.xlabel('Income Levels')\n",
    "pyplot.ylabel('Joyous Exploration')\n",
    "pyplot.title('Joyous Exploration at Different Income Levels')\n",
    "pyplot.show()\n",
    "\n",
    "# CURIOSITY MEASURE: DEPRIVATION SENSITIVITY\n",
    "\n",
    "# display(df) # making sure that the original cleaned DataFrame was not affected\n",
    "\n",
    "# Specific Income Levels\n",
    "dfIncome1 = df.loc[(df['Income']==1)]\n",
    "# display(dfIncome1)\n",
    "DSincome1 = dfIncome1['DS_5D'].tolist()\n",
    "randomDSincome1 = random.sample(DSincome1, 4)\n",
    "meanDSincome1 = np.mean(randomDSincome1)\n",
    "errorDS1 = 2*((np.std(randomDSincome1))/(np.sqrt(len(randomDSincome1))))\n",
    "\n",
    "dfIncome2 = df.loc[(df['Income']==2)]\n",
    "# display(dfIncome2)\n",
    "DSincome2 = dfIncome1['DS_5D'].tolist()\n",
    "randomDSincome2 = random.sample(DSincome2, 4)\n",
    "meanDSincome2 = np.mean(randomDSincome2)\n",
    "errorDS2 = 2*((np.std(randomDSincome2))/(np.sqrt(len(randomDSincome2))))\n",
    "\n",
    "dfIncome3 = df.loc[(df['Income']==3)]\n",
    "# display(dfIncome3)\n",
    "DSincome3 = dfIncome3['DS_5D'].tolist()\n",
    "randomDSincome3 = random.sample(DSincome3, 4)\n",
    "meanDSincome3 = np.mean(randomDSincome3)\n",
    "errorDS3 = 2*((np.std(randomDSincome3))/(np.sqrt(len(randomDSincome3))))\n",
    "\n",
    "dfIncome4 = df.loc[(df['Income']==4)]\n",
    "# display(dfIncome4)\n",
    "DSincome4 = dfIncome4['DS_5D'].tolist()\n",
    "randomDSincome4 = random.sample(DSincome4, 4)\n",
    "meanDSincome4 = np.mean(randomDSincome4)\n",
    "errorDS4 = 2*((np.std(randomDSincome4))/(np.sqrt(len(randomDSincome4))))\n",
    "\n",
    "dfIncome5 = df.loc[(df['Income']==5)]\n",
    "# display(dfIncome5)\n",
    "DSincome5 = dfIncome5['DS_5D'].tolist()\n",
    "randomDSincome5 = random.sample(DSincome5, 4)\n",
    "meanDSincome5 = np.mean(randomDSincome5)\n",
    "errorDS5 = 2*((np.std(randomDSincome5))/(np.sqrt(len(randomDSincome5))))\n",
    "\n",
    "dfIncome6 = df.loc[(df['Income']==6)]\n",
    "# display(dfIncome6)\n",
    "DSincome6 = dfIncome6['DS_5D'].tolist()\n",
    "randomDSincome6 = random.sample(DSincome6, 4)\n",
    "meanDSincome6 = np.mean(randomDSincome6)\n",
    "errorDS6 = 2*((np.std(randomDSincome6))/(np.sqrt(len(randomDSincome6))))\n",
    "\n",
    "dfIncome7 = df.loc[(df['Income']==7)]\n",
    "# display(dfIncome7)\n",
    "DSincome7 = dfIncome7['DS_5D'].tolist()\n",
    "randomDSincome7 = random.sample(DSincome7, 4)\n",
    "meanDSincome7 = np.mean(randomDSincome7)\n",
    "errorDS7 = 2*((np.std(randomDSincome7))/(np.sqrt(len(randomDSincome7))))\n",
    "\n",
    "# gathering data for bar plot\n",
    "xDS = ['under20', '20to49k', '50to74k', '75to99k', '100to149k', '150to199k', '200andup']\n",
    "hDS = [meanDSincome1, meanDSincome2, meanDSincome3, meanDSincome4, meanDSincome5, meanDSincome6, meanDSincome7]\n",
    "errors = [errorDS1, errorDS2, errorDS3, errorDS4, errorDS5, errorDS6, errorDS7]\n",
    "\n",
    "pyplot.bar(xDS, hDS, width=0.8, yerr = errors, bottom=None, align='center', data=None)\n",
    "pyplot.xlabel('Income Levels')\n",
    "pyplot.ylabel('Deprivation Sensitivity')\n",
    "pyplot.title('Deprivation Sensitivity at Different Income Levels')\n",
    "pyplot.show()\n",
    "\n",
    "# CURIOSITY MEASURE: STRESS TOLERANCE\n",
    "\n",
    "# display(df) # making sure that the original cleaned DataFrame was not affected\n",
    "\n",
    "# Specific Income Levels\n",
    "dfIncome1 = df.loc[(df['Income']==1)]\n",
    "# display(dfIncome1)\n",
    "STincome1 = dfIncome1['ST_5D_R'].tolist()\n",
    "randomSTincome1 = random.sample(STincome1, 4)\n",
    "meanSTincome1 = np.mean(randomSTincome1)\n",
    "errorST1 = 2*((np.std(randomSTincome1))/(np.sqrt(len(randomSTincome1))))\n",
    "\n",
    "dfIncome2 = df.loc[(df['Income']==2)]\n",
    "# display(dfIncome2)\n",
    "STincome2 = dfIncome1['ST_5D_R'].tolist()\n",
    "randomSTincome2 = random.sample(STincome2, 4)\n",
    "meanSTincome2 = np.mean(randomSTincome2)\n",
    "errorST2 = 2*((np.std(randomSTincome2))/(np.sqrt(len(randomSTincome2))))\n",
    "\n",
    "dfIncome3 = df.loc[(df['Income']==3)]\n",
    "# display(dfIncome3)\n",
    "STincome3 = dfIncome3['ST_5D_R'].tolist()\n",
    "randomSTincome3 = random.sample(STincome3, 4)\n",
    "meanSTincome3 = np.mean(randomSTincome3)\n",
    "errorST3 = 2*((np.std(randomSTincome3))/(np.sqrt(len(randomSTincome3))))\n",
    "\n",
    "dfIncome4 = df.loc[(df['Income']==4)]\n",
    "# display(dfIncome4)\n",
    "STincome4 = dfIncome4['ST_5D_R'].tolist()\n",
    "randomSTincome4 = random.sample(STincome4, 4)\n",
    "meanSTincome4 = np.mean(randomSTincome4)\n",
    "errorST4 = 2*((np.std(randomSTincome4))/(np.sqrt(len(randomSTincome4))))\n",
    "\n",
    "dfIncome5 = df.loc[(df['Income']==5)]\n",
    "# display(dfIncome5)\n",
    "STincome5 = dfIncome5['ST_5D_R'].tolist()\n",
    "randomSTincome5 = random.sample(STincome5, 4)\n",
    "meanSTincome5 = np.mean(randomSTincome5)\n",
    "errorST5 = 2*((np.std(randomSTincome5))/(np.sqrt(len(randomSTincome5))))\n",
    "\n",
    "dfIncome6 = df.loc[(df['Income']==6)]\n",
    "# display(dfIncome6)\n",
    "STincome6 = dfIncome6['ST_5D_R'].tolist()\n",
    "randomSTincome6 = random.sample(STincome6, 4)\n",
    "meanSTincome6 = np.mean(randomSTincome6)\n",
    "errorST6 = 2*((np.std(randomSTincome6))/(np.sqrt(len(randomSTincome6))))\n",
    "\n",
    "dfIncome7 = df.loc[(df['Income']==7)]\n",
    "# display(dfIncome7)\n",
    "STincome7 = dfIncome7['ST_5D_R'].tolist()\n",
    "randomSTincome7 = random.sample(STincome7, 4)\n",
    "meanSTincome7 = np.mean(randomSTincome7)\n",
    "errorST7 = 2*((np.std(randomSTincome7))/(np.sqrt(len(randomSTincome7))))\n",
    "\n",
    "# gathering data for bar plot\n",
    "xST = ['under20', '20to49k', '50to74k', '75to99k', '100to149k', '150to199k', '200andup']\n",
    "hST = [meanSTincome1, meanSTincome2, meanSTincome3, meanSTincome4, meanSTincome5, meanSTincome6, meanSTincome7]\n",
    "errors = [errorST1, errorST2, errorST3, errorST4, errorST5, errorST6, errorST7]\n",
    "\n",
    "pyplot.bar(xST, hST, width=0.8, yerr = errors, bottom=None, align='center', data=None)\n",
    "pyplot.xlabel('Income Levels')\n",
    "pyplot.ylabel('Stress Tolerance')\n",
    "pyplot.title('Stress Tolerance at Different Income Levels')\n",
    "pyplot.show()\n",
    "\n",
    "# CURIOSITY MEASURE: SOCIAL CURIOSITY\n",
    "\n",
    "# display(df) # making sure that the original cleaned DataFrame was not affected\n",
    "\n",
    "# Specific Income Levels\n",
    "dfIncome1 = df.loc[(df['Income']==1)]\n",
    "# display(dfIncome1)\n",
    "SCincome1 = dfIncome1['SC_5D'].tolist()\n",
    "randomSCincome1 = random.sample(SCincome1, 4)\n",
    "meanSCincome1 = np.mean(randomSCincome1)\n",
    "errorSC1 = 2*((np.std(randomSCincome1))/(np.sqrt(len(randomSCincome1))))\n",
    "\n",
    "dfIncome2 = df.loc[(df['Income']==2)]\n",
    "# display(dfIncome2)\n",
    "SCincome2 = dfIncome1['SC_5D'].tolist()\n",
    "randomSCincome2 = random.sample(SCincome2, 4)\n",
    "meanSCincome2 = np.mean(randomSCincome2)\n",
    "errorSC2 = 2*((np.std(randomSCincome2))/(np.sqrt(len(randomSCincome2))))\n",
    "\n",
    "dfIncome3 = df.loc[(df['Income']==3)]\n",
    "# display(dfIncome3)\n",
    "SCincome3 = dfIncome3['SC_5D'].tolist()\n",
    "randomSCincome3 = random.sample(SCincome3, 4)\n",
    "meanSCincome3 = np.mean(randomSCincome3)\n",
    "errorSC3 = 2*((np.std(randomSCincome3))/(np.sqrt(len(randomSCincome3))))\n",
    "\n",
    "dfIncome4 = df.loc[(df['Income']==4)]\n",
    "# display(dfIncome4)\n",
    "SCincome4 = dfIncome4['SC_5D'].tolist()\n",
    "randomSCincome4 = random.sample(SCincome4, 4)\n",
    "meanSCincome4 = np.mean(randomSCincome4)\n",
    "errorSC4 = 2*((np.std(randomSCincome4))/(np.sqrt(len(randomSCincome4))))\n",
    "\n",
    "dfIncome5 = df.loc[(df['Income']==5)]\n",
    "# display(dfIncome5)\n",
    "SCincome5 = dfIncome5['SC_5D'].tolist()\n",
    "randomSCincome5 = random.sample(SCincome5, 4)\n",
    "meanSCincome5 = np.mean(randomSCincome5)\n",
    "errorSC5 = 2*((np.std(randomSCincome5))/(np.sqrt(len(randomSCincome5))))\n",
    "\n",
    "dfIncome6 = df.loc[(df['Income']==6)]\n",
    "# display(dfIncome6)\n",
    "SCincome6 = dfIncome6['SC_5D'].tolist()\n",
    "randomSCincome6 = random.sample(SCincome6, 4)\n",
    "meanSCincome6 = np.mean(randomSCincome6)\n",
    "errorSC6 = 2*((np.std(randomSCincome6))/(np.sqrt(len(randomSCincome6))))\n",
    "\n",
    "dfIncome7 = df.loc[(df['Income']==7)]\n",
    "# display(dfIncome7)\n",
    "SCincome7 = dfIncome7['SC_5D'].tolist()\n",
    "randomSCincome7 = random.sample(SCincome7, 4)\n",
    "meanSCincome7 = np.mean(randomSCincome7)\n",
    "errorSC7 = 2*((np.std(randomSCincome7))/(np.sqrt(len(randomSCincome7))))\n",
    "\n",
    "# gathering data for bar plot\n",
    "xSC = ['under20', '20to49k', '50to74k', '75to99k', '100to149k', '150to199k', '200andup']\n",
    "hSC = [meanSCincome1, meanSCincome2, meanSCincome3, meanSCincome4, meanSCincome5, meanSCincome6, meanSCincome7]\n",
    "errors = [errorSC1, errorSC2, errorSC3, errorSC4, errorSC5, errorSC6, errorSC7]\n",
    "\n",
    "pyplot.bar(xSC, hSC, width=0.8, yerr = errors, bottom=None, align='center', data=None)\n",
    "pyplot.xlabel('Income Levels')\n",
    "pyplot.ylabel('Social Curiosity')\n",
    "pyplot.title('Social Curiosity at Different Income Levels')\n",
    "pyplot.show()\n",
    "\n",
    "# CURIOSITY MEASURE: THRILL SEEKING\n",
    "\n",
    "# display(df) # making sure that the original cleaned DataFrame was not affected\n",
    "\n",
    "# Specific Income Levels\n",
    "dfIncome1 = df.loc[(df['Income']==1)]\n",
    "# display(dfIncome1)\n",
    "TSincome1 = dfIncome1['TS_5D'].tolist()\n",
    "randomTSincome1 = random.sample(TSincome1, 4)\n",
    "meanTSincome1 = np.mean(randomTSincome1)\n",
    "errorTS1 = 2*((np.std(randomTSincome1))/(np.sqrt(len(randomTSincome1))))\n",
    "\n",
    "dfIncome2 = df.loc[(df['Income']==2)]\n",
    "# display(dfIncome2)\n",
    "TSincome2 = dfIncome1['TS_5D'].tolist()\n",
    "randomTSincome2 = random.sample(TSincome2, 4)\n",
    "meanTSincome2 = np.mean(randomTSincome2)\n",
    "errorTS2 = 2*((np.std(randomTSincome2))/(np.sqrt(len(randomTSincome2))))\n",
    "\n",
    "dfIncome3 = df.loc[(df['Income']==3)]\n",
    "# display(dfIncome3)\n",
    "TSincome3 = dfIncome3['TS_5D'].tolist()\n",
    "randomTSincome3 = random.sample(TSincome3, 4)\n",
    "meanTSincome3 = np.mean(randomTSincome3)\n",
    "errorTS3 = 2*((np.std(randomTSincome3))/(np.sqrt(len(randomTSincome3))))\n",
    "\n",
    "dfIncome4 = df.loc[(df['Income']==4)]\n",
    "# display(dfIncome4)\n",
    "TSincome4 = dfIncome4['TS_5D'].tolist()\n",
    "randomTSincome4 = random.sample(TSincome4, 4)\n",
    "meanTSincome4 = np.mean(randomTSincome4)\n",
    "errorTS4 = 2*((np.std(randomTSincome4))/(np.sqrt(len(randomTSincome4))))\n",
    "\n",
    "dfIncome5 = df.loc[(df['Income']==5)]\n",
    "# display(dfIncome5)\n",
    "TSincome5 = dfIncome5['TS_5D'].tolist()\n",
    "randomTSincome5 = random.sample(TSincome5, 4)\n",
    "meanTSincome5 = np.mean(randomTSincome5)\n",
    "errorTS5 = 2*((np.std(randomTSincome5))/(np.sqrt(len(randomTSincome5))))\n",
    "\n",
    "dfIncome6 = df.loc[(df['Income']==6)]\n",
    "# display(dfIncome6)\n",
    "TSincome6 = dfIncome6['TS_5D'].tolist()\n",
    "randomTSincome6 = random.sample(TSincome6, 4)\n",
    "meanTSincome6 = np.mean(randomTSincome6)\n",
    "errorTS6 = 2*((np.std(randomTSincome6))/(np.sqrt(len(randomTSincome6))))\n",
    "\n",
    "dfIncome7 = df.loc[(df['Income']==7)]\n",
    "# display(dfIncome7)\n",
    "TSincome7 = dfIncome7['TS_5D'].tolist()\n",
    "randomTSincome7 = random.sample(TSincome7, 4)\n",
    "meanTSincome7 = np.mean(randomTSincome7)\n",
    "errorTS7 = 2*((np.std(randomTSincome7))/(np.sqrt(len(randomTSincome7))))\n",
    "\n",
    "# gathering data for bar plot\n",
    "xTS = ['under20', '20to49k', '50to74k', '75to99k', '100to149k', '150to199k', '200andup']\n",
    "hTS = [meanTSincome1, meanTSincome2, meanTSincome3, meanTSincome4, meanTSincome5, meanTSincome6, meanTSincome7]\n",
    "errors = [errorTS1, errorTS2, errorTS3, errorTS4, errorTS5, errorTS6, errorTS7]\n",
    "\n",
    "pyplot.bar(xTS, hTS, width=0.8, yerr = errors, bottom=None, align='center', data=None)\n",
    "pyplot.xlabel('Income Levels')\n",
    "pyplot.ylabel('Thrill Seeking')\n",
    "pyplot.title('Thrill Seeking at Different Income Levels')\n",
    "pyplot.show()\n",
    "\n",
    "# CURIOSITY MEASURE: AVERAGE OF CURIOSITY MEASURES\n",
    "\n",
    "# display(df) # making sure that the original cleaned DataFrame was not affected\n",
    "\n",
    "# Specific Income Levels\n",
    "dfIncome1 = df.loc[(df['Income']==1)]\n",
    "# display(dfIncome1)\n",
    "AVGincome1 = dfIncome1['Avg_5D'].tolist()\n",
    "randomAVGincome1 = random.sample(AVGincome1, 4)\n",
    "meanAVGincome1 = np.mean(randomAVGincome1)\n",
    "errorAVG1 = 2*((np.std(randomAVGincome1))/(np.sqrt(len(randomAVGincome1))))\n",
    "\n",
    "dfIncome2 = df.loc[(df['Income']==2)]\n",
    "# display(dfIncome2)\n",
    "AVGincome2 = dfIncome1['Avg_5D'].tolist()\n",
    "randomAVGincome2 = random.sample(AVGincome2, 4)\n",
    "meanAVGincome2 = np.mean(randomAVGincome2)\n",
    "errorAVG2 = 2*((np.std(randomAVGincome2))/(np.sqrt(len(randomAVGincome2))))\n",
    "\n",
    "dfIncome3 = df.loc[(df['Income']==3)]\n",
    "# display(dfIncome3)\n",
    "AVGincome3 = dfIncome3['Avg_5D'].tolist()\n",
    "randomAVGincome3 = random.sample(AVGincome3, 4)\n",
    "meanAVGincome3 = np.mean(randomAVGincome3)\n",
    "errorAVG3 = 2*((np.std(randomAVGincome3))/(np.sqrt(len(randomAVGincome3))))\n",
    "\n",
    "dfIncome4 = df.loc[(df['Income']==4)]\n",
    "# display(dfIncome4)\n",
    "AVGincome4 = dfIncome4['Avg_5D'].tolist()\n",
    "randomAVGincome4 = random.sample(AVGincome4, 4)\n",
    "meanAVGincome4 = np.mean(randomAVGincome4)\n",
    "errorAVG4 = 2*((np.std(randomAVGincome4))/(np.sqrt(len(randomAVGincome4))))\n",
    "\n",
    "dfIncome5 = df.loc[(df['Income']==5)]\n",
    "# display(dfIncome5)\n",
    "AVGincome5 = dfIncome5['Avg_5D'].tolist()\n",
    "randomAVGincome5 = random.sample(AVGincome5, 4)\n",
    "meanAVGincome5 = np.mean(randomAVGincome5)\n",
    "errorAVG5 = 2*((np.std(randomAVGincome5))/(np.sqrt(len(randomAVGincome5))))\n",
    "\n",
    "dfIncome6 = df.loc[(df['Income']==6)]\n",
    "# display(dfIncome6)\n",
    "AVGincome6 = dfIncome6['Avg_5D'].tolist()\n",
    "randomAVGincome6 = random.sample(AVGincome6, 4)\n",
    "meanAVGincome6 = np.mean(randomAVGincome6)\n",
    "errorAVG6 = 2*((np.std(randomAVGincome6))/(np.sqrt(len(randomAVGincome6))))\n",
    "\n",
    "dfIncome7 = df.loc[(df['Income']==7)]\n",
    "# display(dfIncome7)\n",
    "AVGincome7 = dfIncome7['Avg_5D'].tolist()\n",
    "randomAVGincome7 = random.sample(AVGincome7, 4)\n",
    "meanAVGincome7 = np.mean(randomAVGincome7)\n",
    "errorAVG7 = 2*((np.std(randomAVGincome7))/(np.sqrt(len(randomAVGincome7))))\n",
    "\n",
    "# gathering data for bar plot\n",
    "xAVG = ['under20', '20to49k', '50to74k', '75to99k', '100to149k', '150to199k', '200andup']\n",
    "hAVG = [meanAVGincome1, meanAVGincome2, meanAVGincome3, meanAVGincome4, meanAVGincome5, meanAVGincome6, meanAVGincome7]\n",
    "errors = [errorAVG1, errorAVG2, errorAVG3, errorAVG4, errorAVG5, errorAVG6, errorAVG7]\n",
    "\n",
    "pyplot.bar(xAVG, hAVG, width=0.8, yerr = errors, bottom=None, align='center', data=None)\n",
    "pyplot.xlabel('Income Levels')\n",
    "pyplot.ylabel('Average of Curiosity Measures')\n",
    "pyplot.title('Average of Curiosity Measures at Different Income Levels')\n",
    "pyplot.show()\n"
   ]
  },
  {
   "cell_type": "markdown",
   "metadata": {
    "colab_type": "text",
    "id": "WsDEELpPty0p"
   },
   "source": [
    "#### Essay Portion:"
   ]
  },
  {
   "cell_type": "markdown",
   "metadata": {
    "colab_type": "text",
    "id": "1JISPIHety0p"
   },
   "source": [
    "For the error bars in the bar plots for this problem, I chose error bars which were each 2 standard errors of the mean above and below the mean. This offers us a 95% confidence interval, which is an interval that we can say with 95% confidence contains the population mean. The Average of Curiosity Measures do seem to follow a trend with income level. However, this is a bit harder to see with individual curiosity measures."
   ]
  },
  {
   "cell_type": "markdown",
   "metadata": {
    "colab_type": "text",
    "id": "oFGj8q6Z0Z3q"
   },
   "source": [
    "SS:\n",
    "\n",
    "+1 correct choice of plot (be open to other choices but must include error bars)\n",
    "\n",
    "+2 bar graphs plotted\n",
    "\n",
    "+1 correct error bars\n",
    "\n",
    "+1 clearly labeled axes/title/legend\n",
    "\n",
    "+1 explain what error bars show correctly\n",
    "  - 95% CI is 1.96SE\n",
    "\n",
    "+0.5 working code\n",
    "\n",
    "+0.5 commented code \n",
    "\n",
    "+1 reasonable observation about measures vs. income level"
   ]
  },
  {
   "cell_type": "markdown",
   "metadata": {
    "colab_type": "text",
    "id": "eX6wS8KVty0q"
   },
   "source": [
    "### Q11  Hypothesis Testing"
   ]
  },
  {
   "cell_type": "markdown",
   "metadata": {
    "colab_type": "text",
    "id": "gqGLufU0ty0q"
   },
   "source": [
    "#### Data Science Portion:"
   ]
  },
  {
   "cell_type": "code",
   "execution_count": 0,
   "metadata": {
    "colab": {},
    "colab_type": "code",
    "id": "fmz4uAgFty0q",
    "outputId": "fd86fa50-b3f6-4165-e3e9-a218289c8bb5"
   },
   "outputs": [
    {
     "data": {
      "text/plain": [
       "Power_divergenceResult(statistic=12.351370851370852, pvalue=0.00044066277627185444)"
      ]
     },
     "execution_count": 11,
     "metadata": {
      "tags": []
     },
     "output_type": "execute_result"
    }
   ],
   "source": [
    "# Null Hypothesis: There is no difference between the distribution of individuals in each income level for Joyous Exploration and for Social Curiosity.\n",
    "# Calculating Chi-Squared Test Statistic\n",
    "JEdatalist = list(df['JE_5D'])\n",
    "SCdatalist = list(df['SC_5D'])\n",
    "\n",
    "# preallocating empty lists\n",
    "flooredJEdata = []\n",
    "flooredSCdata = []\n",
    "\n",
    "# for loop to arrange through data sets\n",
    "for n in range(len(JEdatalist)):\n",
    "    JEdataFloor=math.floor(JEdatalist[n])\n",
    "    flooredJEdata.append(JEdataFloor)\n",
    "    \n",
    "    sSCdataFloor=math.floor(SCdatalist[n])\n",
    "    flooredSCdata.append(sSCdataFloor)\n",
    "    \n",
    "joy0=JEdatalist.count(0)\n",
    "joy1=JEdatalist.count(1)\n",
    "joy2=JEdatalist.count(2)\n",
    "joy3=JEdatalist.count(3)\n",
    "joy4=JEdatalist.count(4)\n",
    "joy5=JEdatalist.count(5)\n",
    "joy6=JEdatalist.count(6)\n",
    "\n",
    "JECount= [joy0,joy1,joy2,joy3,joy4,joy5,joy6]\n",
    "\n",
    "soc0=SCdatalist.count(0)\n",
    "soc1=SCdatalist.count(1)\n",
    "soc2=SCdatalist.count(2)\n",
    "soc3=SCdatalist.count(3)\n",
    "soc4=SCdatalist.count(4)\n",
    "soc5=SCdatalist.count(5)\n",
    "soc6=SCdatalist.count(6)\n",
    "\n",
    "SCCount=[soc0,soc1,soc2,soc3,soc4,soc5,soc6]\n",
    "\n",
    "# print(joyCount)\n",
    "# print(socCount)\n",
    "\n",
    "# calculating the test statistic\n",
    "chisquare(JECount, f_exp=SCCount, ddof=5)"
   ]
  },
  {
   "cell_type": "markdown",
   "metadata": {
    "colab_type": "text",
    "id": "bVgzYlXgty0s"
   },
   "source": [
    "#### Essay Portion:"
   ]
  },
  {
   "cell_type": "markdown",
   "metadata": {
    "colab_type": "text",
    "id": "0NqCqMj4ty0s"
   },
   "source": [
    "I used the chi-squared test statistic because it measures how well observed data may fit the null distribution of an expected data set. It fits our null hypothesis well in this way. I chose to use a significance level of 0.05, used commonly in statistical settings. The significance level refers to the risk of incorrectly concluding that some difference exists from our null hypothesis. This would mean that using our hypothesis test, we run a 5% chance of incorrectly making a conclusion. Despite this, our conclusion is that there is a difference between the distributions of Joyous Exploration and Social Curiosity in regards to the income levels, which is a rejection of our null hypothesis."
   ]
  },
  {
   "cell_type": "markdown",
   "metadata": {
    "colab_type": "text",
    "id": "4scsV1fD0lTA"
   },
   "source": [
    "SS:\n",
    "\n",
    "+1 discretize JE and SC\n",
    "\n",
    "+1 null & alt hypothesis stated (+0.5 each) either in code or essay\n",
    "\n",
    "+1 calculated test statistic \n",
    "  - ddof is not correct. so those results is actually not corret. I didn't take off point here though.\n",
    "\n",
    "+1 p value\n",
    "\n",
    "+0.5 working code\n",
    "\n",
    "+0.5 commented code \n",
    "\n",
    "+1 choice of statistical test and reasoning\n",
    "\n",
    "+1 choice of significance level and explanation of its meaning\n",
    "\n",
    "+1 interpret the result on curiosity study\n"
   ]
  },
  {
   "cell_type": "markdown",
   "metadata": {
    "colab_type": "text",
    "id": "K9752LoVty0s"
   },
   "source": [
    "## 5  Network Analysis"
   ]
  },
  {
   "cell_type": "markdown",
   "metadata": {
    "colab_type": "text",
    "id": "9Q_BgHu8ty0t"
   },
   "source": [
    "### Q12  Network Statistics"
   ]
  },
  {
   "cell_type": "markdown",
   "metadata": {
    "colab_type": "text",
    "id": "Fg8mPssQty0t"
   },
   "source": [
    "#### Data Science Portion:"
   ]
  },
  {
   "cell_type": "code",
   "execution_count": 0,
   "metadata": {
    "colab": {},
    "colab_type": "code",
    "id": "md4ScnRAty0t",
    "outputId": "31365a19-e87f-4ec8-f521-4eace373bf90"
   },
   "outputs": [
    {
     "name": "stderr",
     "output_type": "stream",
     "text": [
      "C:\\Users\\aprup\\Anaconda3\\lib\\site-packages\\bct\\algorithms\\distance.py:155: RuntimeWarning: divide by zero encountered in true_divide\n",
      "  efficiency = np.mean(1 / Dv)\n"
     ]
    },
    {
     "data": {
      "text/plain": [
       "[(-0.5, 0.5)]"
      ]
     },
     "execution_count": 12,
     "metadata": {
      "tags": []
     },
     "output_type": "execute_result"
    },
    {
     "data": {
      "image/png": "[encoded data removed]",
      "text/plain": [
       "<Figure size 432x288 with 1 Axes>"
      ]
     },
     "metadata": {
      "needs_background": "light",
      "tags": []
     },
     "output_type": "display_data"
    },
    {
     "data": {
      "image/png": "[encoded data removed]",
      "text/plain": [
       "<Figure size 432x288 with 1 Axes>"
      ]
     },
     "metadata": {
      "needs_background": "light",
      "tags": []
     },
     "output_type": "display_data"
    }
   ],
   "source": [
    "cleaned = df[\"ID\"]\n",
    "cleanedStr = [str(int) for int in cleaned]\n",
    "compiledSet = []\n",
    "\n",
    "# directory of python file and data files\n",
    "basedir = r\"C:/Users/aprup/Documents/Classes - Spring 2020/ENM 375/Midterm Project/\"\n",
    "folders = os.listdir(\"KNOTData_processed\")\n",
    "fold = \"KNOTData_processed/\"\n",
    "specific = \"/PossibleNetwork.txt\"\n",
    "\n",
    "for subjectID in cleanedStr:\n",
    "    subjectNetwork = np.loadtxt(basedir + fold + subjectID + specific)\n",
    "    compiledSet.append(subjectNetwork) \n",
    "\n",
    "# preallocating lists\n",
    "G = []\n",
    "edgeWeightsMean = []\n",
    "averageClusteringValue = []\n",
    "averageShortestPathLengthValue = []\n",
    "\n",
    "for i in range(len(compiledSet)): \n",
    "    piece = compiledSet[i]\n",
    "# Create networkx graph from numpy array adj\n",
    "    G = nx.from_numpy_array(piece, parallel_edges = False)\n",
    "\n",
    "# Get the edge weights from the graph G\n",
    "    edgeWeights = np.array([d['weight'] for u,v,d in G.edges(data = True)])\n",
    "    edgeWeightsMean.append(np.mean(edgeWeights[edgeWeights>0]))\n",
    "\n",
    "# edge weights are now recorded as an array\n",
    "# computing the average clustering coefficient of a graph G with nx.average_clustering\n",
    "    averageClusteringValue.append(nx.average_clustering(G, weight = 'weight'))\n",
    "\n",
    "    # obtaining the average shortest path length\n",
    "    out = (bct.charpath(piece))\n",
    "    averageShortestPathLengthValue.append(out[0])\n",
    "#averageShortestPathLengthValue = nx.averageShortestPathLength(G, weight = 'weight')\n",
    "\n",
    "df['AverageEdgeWeights'] = edgeWeightsMean\n",
    "df['Average Clustering Value'] = averageClusteringValue\n",
    "df['Average Shortest Length'] = averageShortestPathLengthValue\n",
    "\n",
    "pyplot.figure()\n",
    "out1 = sns.regplot(x = df['DS_5D'], y = df['AverageEdgeWeights'])\n",
    "out1.set(ylim = (-.5,.5))\n",
    "\n",
    "pyplot.figure()\n",
    "out = sns.regplot(x = df['DS_5D'], y = df['Average Clustering Value'])\n",
    "out.set(ylim = (-0.5,0.5))\n",
    "\n",
    "# print(df)"
   ]
  },
  {
   "cell_type": "markdown",
   "metadata": {
    "colab_type": "text",
    "id": "ReenSskVty0u"
   },
   "source": [
    "#### Essay Portion:"
   ]
  },
  {
   "cell_type": "markdown",
   "metadata": {
    "colab_type": "text",
    "id": "v6zWxHVpty0v"
   },
   "source": [
    "In my data, the network statistics depicts the average clustering values for each observed subject. From the resulting scatterplots, I can see that the Average Edge Weights follow trends with the Average Clustering Value. "
   ]
  },
  {
   "cell_type": "markdown",
   "metadata": {
    "colab_type": "text",
    "id": "OPIvGze500d_"
   },
   "source": [
    "SS:\n",
    "\n",
    "+2 working code/calculation (they will not lose points if they just make mistakes in computing network statistics)\n",
    "\n",
    "+1.5 scatter/regplot graph plotted (even if potentially incorrect values)\n",
    "  - no plot for average shortest path length\n",
    "\n",
    "+1 clearly labeled axes/title/legend, appropriate x/y limits to see the tendency (+0.5 for each)\n",
    "\n",
    "+0 not describe what those statistics might mean in the data\n",
    "\n",
    "+1 observation from the plots"
   ]
  },
  {
   "cell_type": "markdown",
   "metadata": {
    "colab_type": "text",
    "id": "MH7DYKECty0v"
   },
   "source": [
    "### Q13  Probability"
   ]
  },
  {
   "cell_type": "markdown",
   "metadata": {
    "colab_type": "text",
    "id": "lFwBN0R-ty0v"
   },
   "source": [
    "#### Data Science Portion:"
   ]
  },
  {
   "cell_type": "code",
   "execution_count": 0,
   "metadata": {
    "colab": {},
    "colab_type": "code",
    "id": "nPr3egd4ty0w",
    "outputId": "9420856f-aa9a-4bed-ce24-6b7eeb6c5bb8"
   },
   "outputs": [
    {
     "name": "stdout",
     "output_type": "stream",
     "text": [
      "0.7142857142857143 0.4857142857142857 0.45714285714285713 0.6285714285714286 0.3142857142857143 0.45714285714285713\n"
     ]
    }
   ],
   "source": [
    "busybodyLike = df[df.AverageEdgeWeights <= np.quantile(df['AverageEdgeWeights'], .25)]\n",
    "hunterLike = df[df.AverageEdgeWeights >= np.quantile(df['AverageEdgeWeights'], .75)]\n",
    "\n",
    "# counting numbers of individuals following behaviors\n",
    "Hunters = len(hunterLike)\n",
    "Busybodys = len(busybodyLike)\n",
    "\n",
    "hunterGreaterJE = len(hunterLike[hunterLike.JE_5D >= 4])/Hunters\n",
    "hunterGreaterST = len(hunterLike[hunterLike.ST_5D_R >= 4])/Hunters\n",
    "hunterGreaterDS = len(hunterLike[hunterLike.DS_5D >= 4])/Hunters\n",
    "\n",
    "busybodyGreaterJE = len(busybodyLike[busybodyLike.JE_5D >= 4])/Busybodys\n",
    "busybodyGreaterST = len(busybodyLike[busybodyLike.ST_5D_R >= 4])/Busybodys\n",
    "busybodyGreaterDS = len(busybodyLike[busybodyLike.DS_5D >= 4])/Busybodys\n",
    "\n",
    "# printing wanted values\n",
    "print(hunterGreaterJE, hunterGreaterDS, hunterGreaterST, busybodyGreaterJE, busybodyGreaterDS, busybodyGreaterST)"
   ]
  },
  {
   "cell_type": "markdown",
   "metadata": {
    "colab_type": "text",
    "id": "cz_Ac28oty0x"
   },
   "source": [
    "#### Essay Portion:"
   ]
  },
  {
   "cell_type": "markdown",
   "metadata": {
    "colab_type": "text",
    "id": "2apI0nx1ty0x"
   },
   "source": [
    "Our results show that the probability of each information seeking behavioral individual:\n",
    "\n",
    "(i) have joyous exploration measure greater than or equal to 4: Busybody = 0.6285714285714286, Hunter = 0.7142857142857143\n",
    "\n",
    "(ii) have deprivation sensitivity measure greater than or equal to 4: Busybody = 0.3142857142857143, Hunter = 0.4857142857142857\n",
    "\n",
    "(iii) have stress tolerance measure greater than or equal to 4: Busybody = 0.45714285714285713, Hunter = 0.45714285714285713\n",
    "\n",
    "We came to this estimate by separating Hunters and Busybodies based on the given data, then taking a count o f the curiosity measures of joyous exploration, deprivation sensitivity, and stress tolerance for each of the two individual behavior types. We then used these counts and the total counts to achieve the probabilities for each event. In order to come to a better estimate, we could use greater numbers of subjects to achieve more representative samples of Busybodies and Hunters."
   ]
  },
  {
   "cell_type": "markdown",
   "metadata": {
    "colab_type": "text",
    "id": "9JM9QDTF1Itt"
   },
   "source": [
    "SS:\n",
    "\n",
    "+3 calculate probability (+1 for each) - don’t penalize if Q12 is wrong; no double jeopardy\n",
    "\n",
    "+1 neatly reported events \n",
    "\n",
    "+1 indicate conditional probability\n",
    "\n",
    "+1 reasoning/argument for better estimate\n",
    "\n",
    "+0.5 working code\n",
    "\n",
    "+0.5 commented code "
   ]
  },
  {
   "cell_type": "markdown",
   "metadata": {
    "colab_type": "text",
    "id": "mN70Fl-rty0x"
   },
   "source": [
    "### Q14  Hypothesis Testing"
   ]
  },
  {
   "cell_type": "markdown",
   "metadata": {
    "colab_type": "text",
    "id": "PUXRFbV8ty0y"
   },
   "source": [
    "#### Data Science Portion:"
   ]
  },
  {
   "cell_type": "code",
   "execution_count": 0,
   "metadata": {
    "colab": {},
    "colab_type": "code",
    "id": "0uRgcXvyty0y",
    "outputId": "9919bbd6-3db1-458e-95e7-a0ed5de2aa6d"
   },
   "outputs": [
    {
     "data": {
      "image/png": "[encoded data removed]",
      "text/plain": [
       "<Figure size 432x288 with 1 Axes>"
      ]
     },
     "metadata": {
      "needs_background": "light",
      "tags": []
     },
     "output_type": "display_data"
    },
    {
     "data": {
      "text/plain": [
       "Power_divergenceResult(statistic=1.8763832323984164, pvalue=0.9999999995906853)"
      ]
     },
     "execution_count": 14,
     "metadata": {
      "tags": []
     },
     "output_type": "execute_result"
    }
   ],
   "source": [
    "store = []\n",
    "for j in range(100):\n",
    "    adjRandomized = bct.randmio_und(compiledSet[j], 4)[0]\n",
    "    GRandomized = nx.from_numpy_array(adjRandomized, parallel_edges = False)\n",
    "    store.append(nx.average_clustering(GRandomized, weight = 'weight'))\n",
    "\n",
    "pyplot.hist(store)\n",
    "pyplot.title(\"Average Clustering Values (Randomized Graphs)\")\n",
    "pyplot.ylabel(\"Frequency\")\n",
    "pyplot.xlabel(\"Average Cluster Value\")\n",
    "pyplot.show()\n",
    "\n",
    "hunterLike = df[df.AverageEdgeWeights >= np.quantile(df['AverageEdgeWeights'], .75)]\n",
    "logic = (store >= np.quantile(store, .75))\n",
    "store = np.array([store])\n",
    "\n",
    "# obtaining outputs\n",
    "out = np.multiply(logic, store)\n",
    "out = np.array(out)\n",
    "out = out[out>0]\n",
    "\n",
    "# print(out)\n",
    "dimension = len(out)\n",
    "# print(dimension)\n",
    "\n",
    "sampleRandList = df['AverageEdgeWeights'].tolist()\n",
    "sampleRand = random.choices(sampleRandList, k = len(out))\n",
    "# retrieving chi-squared test statistic\n",
    "chisquare(out, f_exp=sampleRand, ddof=0, axis=0)"
   ]
  },
  {
   "cell_type": "markdown",
   "metadata": {
    "colab_type": "text",
    "id": "UYL5CR4kty0z"
   },
   "source": [
    "#### Essay Portion:"
   ]
  },
  {
   "cell_type": "markdown",
   "metadata": {
    "colab_type": "text",
    "id": "cxcpZvANty0z"
   },
   "source": [
    "Test Statistic: 1.8501309346487806\n",
    "\n",
    "Null Hypothesis: The hunter-like portion of our randomized data is the same as the network data we obtained earlier in the project.\n",
    "\n",
    "Alternative Hypothesis: The hunter-like portion of our randomized data is different from the network data we obtained earlier in the project.\n",
    "\n",
    "I chose to use the Chi-Squared test statistic because it measures how well observed data may fit the null distribution of an expected data set. It fits our null hypothesis well in this way.\n",
    "\n",
    "P-Value = 0.999999999650166\n",
    "\n",
    "For my study, the results may mean that because the P-value of 0.999999999650166 is not less than 0.05 (significance level), we fail to reject the null hypothesis and therefore cannot assume the alternative hypothesis that the hunter-like portion of our randomized data is different from the network data we obtained earlier in the project."
   ]
  },
  {
   "cell_type": "markdown",
   "metadata": {
    "colab_type": "text",
    "id": "w3gz3NZX1PRE"
   },
   "source": [
    "SS:\n",
    "\n",
    "+2 generate random graphs and calculate average cc\n",
    "\n",
    "+1 draw histogram\n",
    "\n",
    "+1 clearly labeled axes/title/legend\n",
    "\n",
    "+1 null & alt hypothesis stated (+0.5 each)\n",
    "\n",
    "+0 not appropriate choice of test statistics and reasoning\n",
    "  - I just take off point here but give you the remaining points for your effort.\n",
    "\n",
    "+1 calculated test statistic \n",
    "\n",
    "+1 p value\n",
    "\n",
    "+1 interpretation of the results\n",
    "\n",
    "+0.5 working code\n",
    "\n",
    "+0.5 commented code"
   ]
  },
  {
   "cell_type": "markdown",
   "metadata": {
    "colab_type": "text",
    "id": "EZvn3rrG1gZy"
   },
   "source": [
    "Nice work!"
   ]
  },
  {
   "cell_type": "code",
   "execution_count": 0,
   "metadata": {
    "colab": {},
    "colab_type": "code",
    "id": "xWmWQcc7miU_"
   },
   "outputs": [],
   "source": []
  }
 ],
 "metadata": {
  "colab": {
   "collapsed_sections": [
    "W3b4yvB1ty0J",
    "7qZ_9tT4ty0O",
    "4Ko8qMp1ty0S",
    "sSWP352tty0W",
    "uAI2aGHSty0Z",
    "JleJKRFtty0d",
    "0G0Mr6bdty0g",
    "O35Xkdy3ty0i",
    "uUwP2Gr8ty0l"
   ],
   "name": "alahariaprupa_5484772_82589013_aprupaa_project1.ipynb",
   "provenance": []
  },
  "kernelspec": {
   "display_name": "Python 3",
   "language": "python",
   "name": "python3"
  },
  "language_info": {
   "codemirror_mode": {
    "name": "ipython",
    "version": 3
   },
   "file_extension": ".py",
   "mimetype": "text/x-python",
   "name": "python",
   "nbconvert_exporter": "python",
   "pygments_lexer": "ipython3",
   "version": "3.7.4"
  }
 },
 "nbformat": 4,
 "nbformat_minor": 1
}
